{
 "cells": [
  {
   "cell_type": "markdown",
   "id": "3ab985f8-4179-4e1a-a70c-4fbb9d531b38",
   "metadata": {},
   "source": [
    "# Overview of signal processing results for ecg derived respiration"
   ]
  },
  {
   "cell_type": "code",
   "execution_count": 120,
   "id": "122a8917-dc92-4922-b36a-af49a12b4733",
   "metadata": {
    "execution": {
     "iopub.execute_input": "2024-05-18T13:52:01.492845Z",
     "iopub.status.busy": "2024-05-18T13:52:01.490087Z",
     "iopub.status.idle": "2024-05-18T13:52:01.519806Z",
     "shell.execute_reply": "2024-05-18T13:52:01.519195Z",
     "shell.execute_reply.started": "2024-05-18T13:52:01.492747Z"
    }
   },
   "outputs": [],
   "source": [
    "import pandas as pd"
   ]
  },
  {
   "cell_type": "markdown",
   "id": "1b69e518-c069-4584-9bbd-c7235ef523fe",
   "metadata": {},
   "source": [
    "## BIDMC\n",
    "Results from RRest toolbox saved at: bidmc_results\n",
    "\n",
    "Component data: per subject the CC's are store in separated file *_CC.mat; also each file has CC values per algorithm and per window"
   ]
  },
  {
   "cell_type": "markdown",
   "id": "6fb0086a-3191-43b5-a6e9-46b1a4d28b4c",
   "metadata": {},
   "source": [
    "### Calculating CC's"
   ]
  },
  {
   "cell_type": "code",
   "execution_count": 3,
   "id": "4e92cc79-706b-429e-95e3-633265f10c63",
   "metadata": {
    "execution": {
     "iopub.execute_input": "2024-06-06T08:33:04.920062Z",
     "iopub.status.busy": "2024-06-06T08:33:04.919613Z",
     "iopub.status.idle": "2024-06-06T08:33:05.336351Z",
     "shell.execute_reply": "2024-06-06T08:33:05.335992Z",
     "shell.execute_reply.started": "2024-06-06T08:33:04.920031Z"
    }
   },
   "outputs": [],
   "source": [
    "import scipy.io\n",
    "import numpy as np\n",
    "import os\n",
    "import glob\n",
    "\n",
    "def load_mat_files(directory):\n",
    "    \"\"\"Load all *_cc.mat files from the given directory.\"\"\"\n",
    "    files = glob.glob(os.path.join(directory, '*_cc.mat'))\n",
    "    data = {}\n",
    "    for file in files:\n",
    "        subject_id = os.path.basename(file).split('_')[0]\n",
    "        mat_data = scipy.io.loadmat(file)\n",
    "        data[subject_id] = mat_data\n",
    "    return data\n",
    "\n",
    "def extract_values(data, signal_prefix='ekg'):\n",
    "    \"\"\"Extract CC & MSE values for a specific signal type from the loaded mat files.\"\"\"\n",
    "    cc_values = {}\n",
    "    mse_values = {}\n",
    "    \n",
    "    for subject, mat_data in data.items():\n",
    "        for key in mat_data:\n",
    "            if key.startswith(signal_prefix) and isinstance(mat_data[key], np.ndarray):\n",
    "                if 'CCp' in mat_data[key].dtype.names:\n",
    "                    method = key.split('_', 1)[1]  # Extract method name\n",
    "                    cc_values.setdefault(subject, {}).setdefault(method, []).extend(mat_data[key]['CCp'][0])\n",
    "    \n",
    "                if 'MSE' in mat_data[key].dtype.names:\n",
    "                        method = key.split('_', 1)[1]  # Extract method name\n",
    "                        mse_values.setdefault(subject, {}).setdefault(method, []).extend(mat_data[key]['MSE'][0])\n",
    "    return cc_values, mse_values\n",
    "\n",
    "def calculate_median(values):\n",
    "    \"\"\"Calculate the median for each subject and each method.\"\"\"\n",
    "    median_values = {}\n",
    "    for subject, methods in values.items():\n",
    "        median_values[subject] = {}\n",
    "        for method, value in methods.items():\n",
    "            median_values[subject][method] = np.nanmedian(value)\n",
    "    return median_values\n",
    "\n",
    "def calculate_mean(values):\n",
    "    \"\"\"Calculate the mean for each subject and each method.\"\"\"\n",
    "    mean_values = {}\n",
    "    for subject, methods in values.items():\n",
    "        mean_values[subject] = {}\n",
    "        for method, value in methods.items():\n",
    "            mean_values[subject][method] = np.nanmean(value)\n",
    "    return mean_values\n",
    "\n",
    "def calculate_overall_median(median):\n",
    "    \"\"\"Calculate the overall median across all subjects for each method.\"\"\"\n",
    "    method_values = {}\n",
    "    for methods in median.values():\n",
    "        for method, value in methods.items():\n",
    "            method_values.setdefault(method, []).append(value)\n",
    "    for method, values in method_values.items():\n",
    "        overall_median = {method: np.nanmedian(values) for method, values in method_values.items()}\n",
    "    return overall_median\n",
    "\n",
    "def calculate_overall_mean(mean):\n",
    "    \"\"\"Calculate the overall mean across all subjects for each method.\"\"\"\n",
    "    method_values = {}\n",
    "    for methods in mean.values():\n",
    "        for method, value in methods.items():\n",
    "            method_values.setdefault(method, []).append(value)\n",
    "    for method, values in method_values.items():\n",
    "        overall_mean = {method: np.nanmedian(values) for method, values in method_values.items()}\n",
    "    return overall_mean"
   ]
  },
  {
   "cell_type": "code",
   "execution_count": 79,
   "id": "dbbb4f57-8821-43b2-8b3f-0aff25fcd1ec",
   "metadata": {
    "execution": {
     "iopub.execute_input": "2024-06-03T08:39:08.399269Z",
     "iopub.status.busy": "2024-06-03T08:39:08.398834Z",
     "iopub.status.idle": "2024-06-03T08:39:08.403946Z",
     "shell.execute_reply": "2024-06-03T08:39:08.402746Z",
     "shell.execute_reply.started": "2024-06-03T08:39:08.399239Z"
    }
   },
   "outputs": [],
   "source": [
    "directory = './bidmc_results/Analysis_files/Component_Data/'"
   ]
  },
  {
   "cell_type": "code",
   "execution_count": 80,
   "id": "584556de-be94-4ded-90de-265e36c9452d",
   "metadata": {
    "execution": {
     "iopub.execute_input": "2024-06-03T08:39:08.655172Z",
     "iopub.status.busy": "2024-06-03T08:39:08.654750Z",
     "iopub.status.idle": "2024-06-03T08:39:08.703540Z",
     "shell.execute_reply": "2024-06-03T08:39:08.703221Z",
     "shell.execute_reply.started": "2024-06-03T08:39:08.655141Z"
    },
    "scrolled": true
   },
   "outputs": [],
   "source": [
    "data = load_mat_files(directory)\n",
    "cc_values, mse_values = extract_values(data)"
   ]
  },
  {
   "cell_type": "code",
   "execution_count": 81,
   "id": "61a6a142-cf8b-4790-bebf-66bc3119eee8",
   "metadata": {
    "execution": {
     "iopub.execute_input": "2024-06-03T08:39:08.856907Z",
     "iopub.status.busy": "2024-06-03T08:39:08.856512Z",
     "iopub.status.idle": "2024-06-03T08:39:08.887443Z",
     "shell.execute_reply": "2024-06-03T08:39:08.886921Z",
     "shell.execute_reply.started": "2024-06-03T08:39:08.856878Z"
    },
    "scrolled": true
   },
   "outputs": [],
   "source": [
    "median_values_cc = calculate_median(cc_values)\n",
    "median_values_mse = calculate_median(mse_values)"
   ]
  },
  {
   "cell_type": "code",
   "execution_count": 82,
   "id": "9f89b134-1bd4-4595-bbb4-0563429cb666",
   "metadata": {
    "execution": {
     "iopub.execute_input": "2024-06-03T08:39:09.037958Z",
     "iopub.status.busy": "2024-06-03T08:39:09.037559Z",
     "iopub.status.idle": "2024-06-03T08:39:09.069447Z",
     "shell.execute_reply": "2024-06-03T08:39:09.068632Z",
     "shell.execute_reply.started": "2024-06-03T08:39:09.037928Z"
    },
    "scrolled": true
   },
   "outputs": [],
   "source": [
    "mean_values_cc = calculate_mean(cc_values)\n",
    "mean_values_mse = calculate_mean(mse_values)"
   ]
  },
  {
   "cell_type": "code",
   "execution_count": 83,
   "id": "a2bc73bd-8cee-4e75-abaf-82d7ab6b30b4",
   "metadata": {
    "execution": {
     "iopub.execute_input": "2024-06-03T08:39:09.383116Z",
     "iopub.status.busy": "2024-06-03T08:39:09.382687Z",
     "iopub.status.idle": "2024-06-03T08:39:09.394488Z",
     "shell.execute_reply": "2024-06-03T08:39:09.393791Z",
     "shell.execute_reply.started": "2024-06-03T08:39:09.383088Z"
    }
   },
   "outputs": [
    {
     "data": {
      "text/plain": [
       "{'ELF_RSlinB_FMeam_FPt_RDtGC_EHF': 0.6689206558933192,\n",
       " 'ELF_RSlinB_FMebw_FPt_RDtGC_EHF': 0.6244211874382042,\n",
       " 'ELF_RSlinB_FMefm_FPt_RDtGC_EHF': 0.32408458191380596,\n",
       " 'flt_BFi': 0.5806797173223289,\n",
       " 'flt_Wam': 0.36963336938242153,\n",
       " 'flt_Wfm': 0.29898291638369046}"
      ]
     },
     "execution_count": 83,
     "metadata": {},
     "output_type": "execute_result"
    }
   ],
   "source": [
    "calculate_overall_median(median_values_cc)"
   ]
  },
  {
   "cell_type": "code",
   "execution_count": 84,
   "id": "b8fc712e-7b26-4fbd-a283-e5064d4f6ed2",
   "metadata": {
    "execution": {
     "iopub.execute_input": "2024-06-03T08:39:09.720177Z",
     "iopub.status.busy": "2024-06-03T08:39:09.719777Z",
     "iopub.status.idle": "2024-06-03T08:39:09.728323Z",
     "shell.execute_reply": "2024-06-03T08:39:09.727683Z",
     "shell.execute_reply.started": "2024-06-03T08:39:09.720149Z"
    }
   },
   "outputs": [
    {
     "data": {
      "text/plain": [
       "{'ELF_RSlinB_FMeam_FPt_RDtGC_EHF': 0.6372758821727452,\n",
       " 'ELF_RSlinB_FMebw_FPt_RDtGC_EHF': 0.6002211256607378,\n",
       " 'ELF_RSlinB_FMefm_FPt_RDtGC_EHF': 0.3268251567073985,\n",
       " 'flt_BFi': 0.5586074061739241,\n",
       " 'flt_Wam': 0.38144137099571845,\n",
       " 'flt_Wfm': 0.31143610106791636}"
      ]
     },
     "execution_count": 84,
     "metadata": {},
     "output_type": "execute_result"
    }
   ],
   "source": [
    "calculate_overall_mean(mean_values_cc)"
   ]
  },
  {
   "cell_type": "code",
   "execution_count": 85,
   "id": "ae3a2847-0116-4a6b-acbc-0cab27ca2db1",
   "metadata": {
    "execution": {
     "iopub.execute_input": "2024-06-03T08:39:10.058875Z",
     "iopub.status.busy": "2024-06-03T08:39:10.058448Z",
     "iopub.status.idle": "2024-06-03T08:39:10.067249Z",
     "shell.execute_reply": "2024-06-03T08:39:10.066546Z",
     "shell.execute_reply.started": "2024-06-03T08:39:10.058846Z"
    },
    "scrolled": true
   },
   "outputs": [
    {
     "data": {
      "text/plain": [
       "{'ELF_RSlinB_FMeam_FPt_RDtGC_EHF': 0.06548734871978001,\n",
       " 'ELF_RSlinB_FMebw_FPt_RDtGC_EHF': 0.06352932768885228,\n",
       " 'ELF_RSlinB_FMefm_FPt_RDtGC_EHF': 0.10049166727873382,\n",
       " 'flt_BFi': 0.07339123243711032,\n",
       " 'flt_Wam': 0.09864817470949042,\n",
       " 'flt_Wfm': 0.1083998867323163}"
      ]
     },
     "execution_count": 85,
     "metadata": {},
     "output_type": "execute_result"
    }
   ],
   "source": [
    "calculate_overall_median(median_values_mse)"
   ]
  },
  {
   "cell_type": "code",
   "execution_count": 86,
   "id": "fae5d53c-eac6-4465-81c1-3e06abac82e3",
   "metadata": {
    "execution": {
     "iopub.execute_input": "2024-06-03T08:39:10.553000Z",
     "iopub.status.busy": "2024-06-03T08:39:10.552558Z",
     "iopub.status.idle": "2024-06-03T08:39:10.562007Z",
     "shell.execute_reply": "2024-06-03T08:39:10.561106Z",
     "shell.execute_reply.started": "2024-06-03T08:39:10.552970Z"
    }
   },
   "outputs": [
    {
     "data": {
      "text/plain": [
       "{'ELF_RSlinB_FMeam_FPt_RDtGC_EHF': 0.0656807723440914,\n",
       " 'ELF_RSlinB_FMebw_FPt_RDtGC_EHF': 0.06489365945136012,\n",
       " 'ELF_RSlinB_FMefm_FPt_RDtGC_EHF': 0.10157131195548069,\n",
       " 'flt_BFi': 0.07674733331598545,\n",
       " 'flt_Wam': 0.10882017625720494,\n",
       " 'flt_Wfm': 0.11178725031768236}"
      ]
     },
     "execution_count": 86,
     "metadata": {},
     "output_type": "execute_result"
    }
   ],
   "source": [
    "calculate_overall_mean(mean_values_mse)"
   ]
  },
  {
   "cell_type": "markdown",
   "id": "730fae1c-feff-4bb9-9b63-85db68a9010d",
   "metadata": {},
   "source": [
    "## Capnobase"
   ]
  },
  {
   "cell_type": "code",
   "execution_count": 87,
   "id": "7f63d512-4685-41bb-97d4-a2dcd88ceddc",
   "metadata": {
    "execution": {
     "iopub.execute_input": "2024-06-03T08:39:11.901115Z",
     "iopub.status.busy": "2024-06-03T08:39:11.900675Z",
     "iopub.status.idle": "2024-06-03T08:39:11.904722Z",
     "shell.execute_reply": "2024-06-03T08:39:11.903849Z",
     "shell.execute_reply.started": "2024-06-03T08:39:11.901086Z"
    }
   },
   "outputs": [],
   "source": [
    "directory = './capnobase_results/Analysis_files/Component_Data/'"
   ]
  },
  {
   "cell_type": "code",
   "execution_count": 52,
   "id": "6f229c50-0f3c-48f4-bfd1-42bc75b423fd",
   "metadata": {
    "execution": {
     "iopub.execute_input": "2024-06-03T08:08:13.725125Z",
     "iopub.status.busy": "2024-06-03T08:08:13.724709Z",
     "iopub.status.idle": "2024-06-03T08:08:13.755885Z",
     "shell.execute_reply": "2024-06-03T08:08:13.755438Z",
     "shell.execute_reply.started": "2024-06-03T08:08:13.725093Z"
    },
    "scrolled": true
   },
   "outputs": [],
   "source": [
    "data = load_mat_files(directory)\n",
    "cc_values, mse_values = extract_values(data)"
   ]
  },
  {
   "cell_type": "code",
   "execution_count": 53,
   "id": "a04f4c64-1201-4a96-a045-fce84e852f9c",
   "metadata": {
    "execution": {
     "iopub.execute_input": "2024-06-03T08:08:14.503514Z",
     "iopub.status.busy": "2024-06-03T08:08:14.503017Z",
     "iopub.status.idle": "2024-06-03T08:08:14.533675Z",
     "shell.execute_reply": "2024-06-03T08:08:14.533065Z",
     "shell.execute_reply.started": "2024-06-03T08:08:14.503480Z"
    }
   },
   "outputs": [],
   "source": [
    "median_values_cc = calculate_median(cc_values)\n",
    "median_values_mse = calculate_median(mse_values)"
   ]
  },
  {
   "cell_type": "code",
   "execution_count": 54,
   "id": "e7586573-fd27-4cf5-be51-e0ce603ef236",
   "metadata": {
    "execution": {
     "iopub.execute_input": "2024-06-03T08:08:14.953042Z",
     "iopub.status.busy": "2024-06-03T08:08:14.952595Z",
     "iopub.status.idle": "2024-06-03T08:08:14.983705Z",
     "shell.execute_reply": "2024-06-03T08:08:14.982884Z",
     "shell.execute_reply.started": "2024-06-03T08:08:14.953011Z"
    }
   },
   "outputs": [],
   "source": [
    "mean_values_cc = calculate_mean(cc_values)\n",
    "mean_values_mse = calculate_mean(mse_values)"
   ]
  },
  {
   "cell_type": "code",
   "execution_count": 55,
   "id": "77941e29-d40a-468b-b63d-e0c3c0aa8e8b",
   "metadata": {
    "execution": {
     "iopub.execute_input": "2024-06-03T08:08:15.450174Z",
     "iopub.status.busy": "2024-06-03T08:08:15.449743Z",
     "iopub.status.idle": "2024-06-03T08:08:15.460995Z",
     "shell.execute_reply": "2024-06-03T08:08:15.459955Z",
     "shell.execute_reply.started": "2024-06-03T08:08:15.450145Z"
    }
   },
   "outputs": [
    {
     "data": {
      "text/plain": [
       "{'ELF_RSlinB_FMeam_FPt_RDtGC_EHF': 0.8611708902922213,\n",
       " 'ELF_RSlinB_FMebw_FPt_RDtGC_EHF': 0.6931336921888314,\n",
       " 'ELF_RSlinB_FMefm_FPt_RDtGC_EHF': 0.6897644243814938,\n",
       " 'flt_BFi': 0.45598445558912803,\n",
       " 'flt_Wam': 0.45213411987543184,\n",
       " 'flt_Wfm': 0.40757009418580525}"
      ]
     },
     "execution_count": 55,
     "metadata": {},
     "output_type": "execute_result"
    }
   ],
   "source": [
    "calculate_overall_median(median_values_cc)"
   ]
  },
  {
   "cell_type": "code",
   "execution_count": 56,
   "id": "96b96c2c-d397-4743-a4ad-12b276f71ec1",
   "metadata": {
    "execution": {
     "iopub.execute_input": "2024-06-03T08:08:17.590508Z",
     "iopub.status.busy": "2024-06-03T08:08:17.590065Z",
     "iopub.status.idle": "2024-06-03T08:08:17.600852Z",
     "shell.execute_reply": "2024-06-03T08:08:17.599700Z",
     "shell.execute_reply.started": "2024-06-03T08:08:17.590480Z"
    }
   },
   "outputs": [
    {
     "data": {
      "text/plain": [
       "{'ELF_RSlinB_FMeam_FPt_RDtGC_EHF': 0.8330416025511844,\n",
       " 'ELF_RSlinB_FMebw_FPt_RDtGC_EHF': 0.6596325235201358,\n",
       " 'ELF_RSlinB_FMefm_FPt_RDtGC_EHF': 0.6599929731951029,\n",
       " 'flt_BFi': 0.4188092218740107,\n",
       " 'flt_Wam': 0.42940958605211926,\n",
       " 'flt_Wfm': 0.4140829981639218}"
      ]
     },
     "execution_count": 56,
     "metadata": {},
     "output_type": "execute_result"
    }
   ],
   "source": [
    "calculate_overall_mean(mean_values_cc)"
   ]
  },
  {
   "cell_type": "code",
   "execution_count": 57,
   "id": "68807596-1779-4d5e-9e02-af3f9ad41bb1",
   "metadata": {
    "execution": {
     "iopub.execute_input": "2024-06-03T08:08:19.344428Z",
     "iopub.status.busy": "2024-06-03T08:08:19.343965Z",
     "iopub.status.idle": "2024-06-03T08:08:19.353294Z",
     "shell.execute_reply": "2024-06-03T08:08:19.352589Z",
     "shell.execute_reply.started": "2024-06-03T08:08:19.344396Z"
    }
   },
   "outputs": [
    {
     "data": {
      "text/plain": [
       "{'ELF_RSlinB_FMeam_FPt_RDtGC_EHF': 0.04839334326332245,\n",
       " 'ELF_RSlinB_FMebw_FPt_RDtGC_EHF': 0.08120463431092063,\n",
       " 'ELF_RSlinB_FMefm_FPt_RDtGC_EHF': 0.0759892699823336,\n",
       " 'flt_BFi': 0.11813423559092215,\n",
       " 'flt_Wam': 0.12086288733420263,\n",
       " 'flt_Wfm': 0.12552053905685007}"
      ]
     },
     "execution_count": 57,
     "metadata": {},
     "output_type": "execute_result"
    }
   ],
   "source": [
    "calculate_overall_median(median_values_mse)"
   ]
  },
  {
   "cell_type": "code",
   "execution_count": 58,
   "id": "5f071427-b20c-47fe-a12d-7dbf5a1d44d3",
   "metadata": {
    "execution": {
     "iopub.execute_input": "2024-06-03T08:08:20.737778Z",
     "iopub.status.busy": "2024-06-03T08:08:20.737356Z",
     "iopub.status.idle": "2024-06-03T08:08:20.747477Z",
     "shell.execute_reply": "2024-06-03T08:08:20.746057Z",
     "shell.execute_reply.started": "2024-06-03T08:08:20.737749Z"
    }
   },
   "outputs": [
    {
     "data": {
      "text/plain": [
       "{'ELF_RSlinB_FMeam_FPt_RDtGC_EHF': 0.057340347402984417,\n",
       " 'ELF_RSlinB_FMebw_FPt_RDtGC_EHF': 0.08609671091004677,\n",
       " 'ELF_RSlinB_FMefm_FPt_RDtGC_EHF': 0.08289334234411427,\n",
       " 'flt_BFi': 0.11288783251743041,\n",
       " 'flt_Wam': 0.12566097266572143,\n",
       " 'flt_Wfm': 0.13239046138302132}"
      ]
     },
     "execution_count": 58,
     "metadata": {},
     "output_type": "execute_result"
    }
   ],
   "source": [
    "calculate_overall_mean(mean_values_mse)"
   ]
  },
  {
   "cell_type": "markdown",
   "id": "abf9d724-c3d9-4f39-9f20-f612f0143791",
   "metadata": {},
   "source": [
    "## Fantasia"
   ]
  },
  {
   "cell_type": "code",
   "execution_count": 1,
   "id": "3a8d0105-3017-4f64-805a-3eac30ce6206",
   "metadata": {
    "execution": {
     "iopub.execute_input": "2024-06-06T08:32:55.422757Z",
     "iopub.status.busy": "2024-06-06T08:32:55.421708Z",
     "iopub.status.idle": "2024-06-06T08:32:55.449320Z",
     "shell.execute_reply": "2024-06-06T08:32:55.448287Z",
     "shell.execute_reply.started": "2024-06-06T08:32:55.422693Z"
    }
   },
   "outputs": [],
   "source": [
    "directory = './fantasia_results/Analysis_files/Component_Data/'"
   ]
  },
  {
   "cell_type": "code",
   "execution_count": 4,
   "id": "f0587c09-0094-47e6-b333-37635418a98a",
   "metadata": {
    "execution": {
     "iopub.execute_input": "2024-06-06T08:33:11.383203Z",
     "iopub.status.busy": "2024-06-06T08:33:11.382687Z",
     "iopub.status.idle": "2024-06-06T08:33:11.483000Z",
     "shell.execute_reply": "2024-06-06T08:33:11.482690Z",
     "shell.execute_reply.started": "2024-06-06T08:33:11.383173Z"
    }
   },
   "outputs": [],
   "source": [
    "data = load_mat_files(directory)\n",
    "cc_values, mse_values = extract_values(data)"
   ]
  },
  {
   "cell_type": "code",
   "execution_count": 5,
   "id": "58a764d1-e7e3-49d4-8d40-497d188d27da",
   "metadata": {
    "execution": {
     "iopub.execute_input": "2024-06-06T08:33:14.053632Z",
     "iopub.status.busy": "2024-06-06T08:33:14.053160Z",
     "iopub.status.idle": "2024-06-06T08:33:14.084663Z",
     "shell.execute_reply": "2024-06-06T08:33:14.084060Z",
     "shell.execute_reply.started": "2024-06-06T08:33:14.053601Z"
    }
   },
   "outputs": [
    {
     "name": "stderr",
     "output_type": "stream",
     "text": [
      "/Users/lanacaldarevic/miniforge3/envs/tf_m1/lib/python3.9/site-packages/numpy/lib/nanfunctions.py:1217: RuntimeWarning: All-NaN slice encountered\n",
      "  return function_base._ureduce(a, func=_nanmedian, keepdims=keepdims,\n"
     ]
    }
   ],
   "source": [
    "median_values_cc = calculate_median(cc_values)\n",
    "median_values_mse = calculate_median(mse_values)"
   ]
  },
  {
   "cell_type": "code",
   "execution_count": 6,
   "id": "e608d9a8-e75c-4ee5-bb8f-a371dc47f414",
   "metadata": {
    "execution": {
     "iopub.execute_input": "2024-06-06T08:33:23.640132Z",
     "iopub.status.busy": "2024-06-06T08:33:23.639437Z",
     "iopub.status.idle": "2024-06-06T08:33:23.669707Z",
     "shell.execute_reply": "2024-06-06T08:33:23.669124Z",
     "shell.execute_reply.started": "2024-06-06T08:33:23.640094Z"
    }
   },
   "outputs": [
    {
     "name": "stderr",
     "output_type": "stream",
     "text": [
      "/var/folders/hn/yg4cbj4s217_wzc9zw_33ndh0000gn/T/ipykernel_5177/2045131890.py:48: RuntimeWarning: Mean of empty slice\n",
      "  mean_values[subject][method] = np.nanmean(value)\n"
     ]
    }
   ],
   "source": [
    "mean_values_cc = calculate_mean(cc_values)\n",
    "mean_values_mse = calculate_mean(mse_values)"
   ]
  },
  {
   "cell_type": "code",
   "execution_count": 7,
   "id": "d33d8f2f-9e06-44f5-8c66-cf07a070213e",
   "metadata": {
    "execution": {
     "iopub.execute_input": "2024-06-06T08:33:28.994182Z",
     "iopub.status.busy": "2024-06-06T08:33:28.993742Z",
     "iopub.status.idle": "2024-06-06T08:33:29.007052Z",
     "shell.execute_reply": "2024-06-06T08:33:29.006197Z",
     "shell.execute_reply.started": "2024-06-06T08:33:28.994152Z"
    }
   },
   "outputs": [
    {
     "data": {
      "text/plain": [
       "{'ELF_RSlinB_FMeam_FPt_RDtGC_EHF': 0.6052386277165815,\n",
       " 'ELF_RSlinB_FMebw_FPt_RDtGC_EHF': 0.5099128611096525,\n",
       " 'ELF_RSlinB_FMefm_FPt_RDtGC_EHF': 0.592059759269909,\n",
       " 'flt_BFi': 0.3628730677753506,\n",
       " 'flt_Wam': 0.39302982318563534,\n",
       " 'flt_Wfm': 0.4424823852335252}"
      ]
     },
     "execution_count": 7,
     "metadata": {},
     "output_type": "execute_result"
    }
   ],
   "source": [
    "calculate_overall_median(median_values_cc)"
   ]
  },
  {
   "cell_type": "code",
   "execution_count": 8,
   "id": "cec1af20-225e-4048-98db-cf4fd2c7f6c3",
   "metadata": {
    "execution": {
     "iopub.execute_input": "2024-06-06T08:33:35.996047Z",
     "iopub.status.busy": "2024-06-06T08:33:35.995369Z",
     "iopub.status.idle": "2024-06-06T08:33:36.005362Z",
     "shell.execute_reply": "2024-06-06T08:33:36.004395Z",
     "shell.execute_reply.started": "2024-06-06T08:33:35.996014Z"
    }
   },
   "outputs": [
    {
     "data": {
      "text/plain": [
       "{'ELF_RSlinB_FMeam_FPt_RDtGC_EHF': 0.5859172743658393,\n",
       " 'ELF_RSlinB_FMebw_FPt_RDtGC_EHF': 0.4986326185036807,\n",
       " 'ELF_RSlinB_FMefm_FPt_RDtGC_EHF': 0.5552741813198843,\n",
       " 'flt_BFi': 0.3704173734463348,\n",
       " 'flt_Wam': 0.3872276591163224,\n",
       " 'flt_Wfm': 0.4485019750490207}"
      ]
     },
     "execution_count": 8,
     "metadata": {},
     "output_type": "execute_result"
    }
   ],
   "source": [
    "calculate_overall_mean(mean_values_cc)"
   ]
  },
  {
   "cell_type": "code",
   "execution_count": 9,
   "id": "4b84f439-3802-4749-b005-44c0c5f270fe",
   "metadata": {
    "execution": {
     "iopub.execute_input": "2024-06-06T08:33:43.015783Z",
     "iopub.status.busy": "2024-06-06T08:33:43.015340Z",
     "iopub.status.idle": "2024-06-06T08:33:43.026845Z",
     "shell.execute_reply": "2024-06-06T08:33:43.026052Z",
     "shell.execute_reply.started": "2024-06-06T08:33:43.015753Z"
    }
   },
   "outputs": [
    {
     "data": {
      "text/plain": [
       "{'ELF_RSlinB_FMeam_FPt_RDtGC_EHF': 0.06355227979905154,\n",
       " 'ELF_RSlinB_FMebw_FPt_RDtGC_EHF': 0.0671285295976038,\n",
       " 'ELF_RSlinB_FMefm_FPt_RDtGC_EHF': 0.06540257846464922,\n",
       " 'flt_BFi': 0.08264363278302334,\n",
       " 'flt_Wam': 0.08760163182555217,\n",
       " 'flt_Wfm': 0.07355170852369215}"
      ]
     },
     "execution_count": 9,
     "metadata": {},
     "output_type": "execute_result"
    }
   ],
   "source": [
    "calculate_overall_median(median_values_mse)"
   ]
  },
  {
   "cell_type": "code",
   "execution_count": 10,
   "id": "15c4a375-56ec-4c43-bab1-7089907cb00a",
   "metadata": {
    "execution": {
     "iopub.execute_input": "2024-06-06T08:33:48.275832Z",
     "iopub.status.busy": "2024-06-06T08:33:48.275398Z",
     "iopub.status.idle": "2024-06-06T08:33:48.285267Z",
     "shell.execute_reply": "2024-06-06T08:33:48.284236Z",
     "shell.execute_reply.started": "2024-06-06T08:33:48.275801Z"
    }
   },
   "outputs": [
    {
     "data": {
      "text/plain": [
       "{'ELF_RSlinB_FMeam_FPt_RDtGC_EHF': 0.07200027102356192,\n",
       " 'ELF_RSlinB_FMebw_FPt_RDtGC_EHF': 0.06983494797213542,\n",
       " 'ELF_RSlinB_FMefm_FPt_RDtGC_EHF': 0.07060913448719557,\n",
       " 'flt_BFi': 0.08393079857380603,\n",
       " 'flt_Wam': 0.0933604229321614,\n",
       " 'flt_Wfm': 0.08207561014652871}"
      ]
     },
     "execution_count": 10,
     "metadata": {},
     "output_type": "execute_result"
    }
   ],
   "source": [
    "calculate_overall_mean(mean_values_mse)"
   ]
  },
  {
   "cell_type": "code",
   "execution_count": null,
   "id": "afa4ce15-c585-4ec8-8005-2f69fee859d2",
   "metadata": {},
   "outputs": [],
   "source": []
  }
 ],
 "metadata": {
  "kernelspec": {
   "display_name": "Python (tf_m1)",
   "language": "python",
   "name": "tf_m1"
  },
  "language_info": {
   "codemirror_mode": {
    "name": "ipython",
    "version": 3
   },
   "file_extension": ".py",
   "mimetype": "text/x-python",
   "name": "python",
   "nbconvert_exporter": "python",
   "pygments_lexer": "ipython3",
   "version": "3.9.19"
  }
 },
 "nbformat": 4,
 "nbformat_minor": 5
}
