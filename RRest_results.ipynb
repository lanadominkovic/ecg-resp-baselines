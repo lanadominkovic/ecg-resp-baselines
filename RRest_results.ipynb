{
 "cells": [
  {
   "cell_type": "markdown",
   "id": "3ab985f8-4179-4e1a-a70c-4fbb9d531b38",
   "metadata": {},
   "source": [
    "# Overview of signal processing results for ecg derived respiration"
   ]
  },
  {
   "cell_type": "code",
   "execution_count": 120,
   "id": "122a8917-dc92-4922-b36a-af49a12b4733",
   "metadata": {
    "execution": {
     "iopub.execute_input": "2024-05-18T13:52:01.492845Z",
     "iopub.status.busy": "2024-05-18T13:52:01.490087Z",
     "iopub.status.idle": "2024-05-18T13:52:01.519806Z",
     "shell.execute_reply": "2024-05-18T13:52:01.519195Z",
     "shell.execute_reply.started": "2024-05-18T13:52:01.492747Z"
    }
   },
   "outputs": [],
   "source": [
    "import pandas as pd"
   ]
  },
  {
   "cell_type": "markdown",
   "id": "1b69e518-c069-4584-9bbd-c7235ef523fe",
   "metadata": {},
   "source": [
    "## BIDMC\n",
    "Results from RRest toolbox saved at: bidmc_results\n",
    "\n",
    "Component data: per subject the CC's are store in separated file *_CC.mat; also each file has CC values per algorithm and per window"
   ]
  },
  {
   "cell_type": "markdown",
   "id": "6fb0086a-3191-43b5-a6e9-46b1a4d28b4c",
   "metadata": {},
   "source": [
    "### Calculating CC's"
   ]
  },
  {
   "cell_type": "code",
   "execution_count": 42,
   "id": "4e92cc79-706b-429e-95e3-633265f10c63",
   "metadata": {
    "execution": {
     "iopub.execute_input": "2024-06-03T08:08:09.628994Z",
     "iopub.status.busy": "2024-06-03T08:08:09.628543Z",
     "iopub.status.idle": "2024-06-03T08:08:09.655251Z",
     "shell.execute_reply": "2024-06-03T08:08:09.654456Z",
     "shell.execute_reply.started": "2024-06-03T08:08:09.628965Z"
    }
   },
   "outputs": [],
   "source": [
    "import scipy.io\n",
    "import numpy as np\n",
    "import os\n",
    "import glob\n",
    "\n",
    "def load_mat_files(directory):\n",
    "    \"\"\"Load all *_cc.mat files from the given directory.\"\"\"\n",
    "    files = glob.glob(os.path.join(directory, '*_cc.mat'))\n",
    "    data = {}\n",
    "    for file in files:\n",
    "        subject_id = os.path.basename(file).split('_')[0]\n",
    "        mat_data = scipy.io.loadmat(file)\n",
    "        data[subject_id] = mat_data\n",
    "    return data\n",
    "\n",
    "def extract_values(data, signal_prefix='ekg'):\n",
    "    \"\"\"Extract CC & MSE values for a specific signal type from the loaded mat files.\"\"\"\n",
    "    cc_values = {}\n",
    "    mse_values = {}\n",
    "    \n",
    "    for subject, mat_data in data.items():\n",
    "        for key in mat_data:\n",
    "            if key.startswith(signal_prefix) and isinstance(mat_data[key], np.ndarray):\n",
    "                if 'CCp' in mat_data[key].dtype.names:\n",
    "                    method = key.split('_', 1)[1]  # Extract method name\n",
    "                    cc_values.setdefault(subject, {}).setdefault(method, []).extend(mat_data[key]['CCp'][0])\n",
    "    \n",
    "                if 'MSE' in mat_data[key].dtype.names:\n",
    "                        method = key.split('_', 1)[1]  # Extract method name\n",
    "                        mse_values.setdefault(subject, {}).setdefault(method, []).extend(mat_data[key]['MSE'][0])\n",
    "    return cc_values, mse_values\n",
    "\n",
    "def calculate_median(values):\n",
    "    \"\"\"Calculate the median for each subject and each method.\"\"\"\n",
    "    median_values = {}\n",
    "    for subject, methods in values.items():\n",
    "        median_values[subject] = {}\n",
    "        for method, value in methods.items():\n",
    "            median_values[subject][method] = np.nanmedian(value)\n",
    "    return median_values\n",
    "\n",
    "def calculate_mean(values):\n",
    "    \"\"\"Calculate the mean for each subject and each method.\"\"\"\n",
    "    mean_values = {}\n",
    "    for subject, methods in values.items():\n",
    "        mean_values[subject] = {}\n",
    "        for method, value in methods.items():\n",
    "            mean_values[subject][method] = np.nanmean(value)\n",
    "    return mean_values\n",
    "\n",
    "def calculate_overall_median(median):\n",
    "    \"\"\"Calculate the overall median across all subjects for each method.\"\"\"\n",
    "    method_values = {}\n",
    "    for methods in median.values():\n",
    "        for method, value in methods.items():\n",
    "            method_values.setdefault(method, []).append(value)\n",
    "    for method, values in method_values.items():\n",
    "        overall_median = {method: np.nanmedian(values) for method, values in method_values.items()}\n",
    "    return overall_median\n",
    "\n",
    "def calculate_overall_mean(mean):\n",
    "    \"\"\"Calculate the overall mean across all subjects for each method.\"\"\"\n",
    "    method_values = {}\n",
    "    for methods in mean.values():\n",
    "        for method, value in methods.items():\n",
    "            method_values.setdefault(method, []).append(value)\n",
    "    for method, values in method_values.items():\n",
    "        overall_mean = {method: np.nanmedian(values) for method, values in method_values.items()}\n",
    "    return overall_mean"
   ]
  },
  {
   "cell_type": "code",
   "execution_count": 43,
   "id": "dbbb4f57-8821-43b2-8b3f-0aff25fcd1ec",
   "metadata": {
    "execution": {
     "iopub.execute_input": "2024-06-03T08:08:10.138826Z",
     "iopub.status.busy": "2024-06-03T08:08:10.138401Z",
     "iopub.status.idle": "2024-06-03T08:08:10.143148Z",
     "shell.execute_reply": "2024-06-03T08:08:10.142078Z",
     "shell.execute_reply.started": "2024-06-03T08:08:10.138797Z"
    }
   },
   "outputs": [],
   "source": [
    "directory = './bidmc_results/Analysis_files/Component_Data/'"
   ]
  },
  {
   "cell_type": "code",
   "execution_count": 44,
   "id": "584556de-be94-4ded-90de-265e36c9452d",
   "metadata": {
    "execution": {
     "iopub.execute_input": "2024-06-03T08:08:10.574739Z",
     "iopub.status.busy": "2024-06-03T08:08:10.574285Z",
     "iopub.status.idle": "2024-06-03T08:08:10.619749Z",
     "shell.execute_reply": "2024-06-03T08:08:10.619277Z",
     "shell.execute_reply.started": "2024-06-03T08:08:10.574708Z"
    },
    "scrolled": true
   },
   "outputs": [],
   "source": [
    "data = load_mat_files(directory)\n",
    "cc_values, mse_values = extract_values(data)"
   ]
  },
  {
   "cell_type": "code",
   "execution_count": 45,
   "id": "61a6a142-cf8b-4790-bebf-66bc3119eee8",
   "metadata": {
    "execution": {
     "iopub.execute_input": "2024-06-03T08:08:11.198943Z",
     "iopub.status.busy": "2024-06-03T08:08:11.198506Z",
     "iopub.status.idle": "2024-06-03T08:08:11.232711Z",
     "shell.execute_reply": "2024-06-03T08:08:11.232154Z",
     "shell.execute_reply.started": "2024-06-03T08:08:11.198909Z"
    },
    "scrolled": true
   },
   "outputs": [],
   "source": [
    "median_values_cc = calculate_median(cc_values)\n",
    "median_values_mse = calculate_median(mse_values)"
   ]
  },
  {
   "cell_type": "code",
   "execution_count": 46,
   "id": "9f89b134-1bd4-4595-bbb4-0563429cb666",
   "metadata": {
    "execution": {
     "iopub.execute_input": "2024-06-03T08:08:11.397806Z",
     "iopub.status.busy": "2024-06-03T08:08:11.397395Z",
     "iopub.status.idle": "2024-06-03T08:08:11.433580Z",
     "shell.execute_reply": "2024-06-03T08:08:11.433060Z",
     "shell.execute_reply.started": "2024-06-03T08:08:11.397778Z"
    },
    "scrolled": true
   },
   "outputs": [],
   "source": [
    "mean_values_cc = calculate_mean(cc_values)\n",
    "mean_values_mse = calculate_mean(mse_values)"
   ]
  },
  {
   "cell_type": "code",
   "execution_count": 47,
   "id": "a2bc73bd-8cee-4e75-abaf-82d7ab6b30b4",
   "metadata": {
    "execution": {
     "iopub.execute_input": "2024-06-03T08:08:11.607154Z",
     "iopub.status.busy": "2024-06-03T08:08:11.606746Z",
     "iopub.status.idle": "2024-06-03T08:08:11.616977Z",
     "shell.execute_reply": "2024-06-03T08:08:11.616165Z",
     "shell.execute_reply.started": "2024-06-03T08:08:11.607125Z"
    }
   },
   "outputs": [
    {
     "data": {
      "text/plain": [
       "{'ELF_RSlinB_FMeam_FPt_RDtGC_EHF': 0.6689206558933194,\n",
       " 'ELF_RSlinB_FMebw_FPt_RDtGC_EHF': 0.6244211874382044,\n",
       " 'ELF_RSlinB_FMefm_FPt_RDtGC_EHF': 0.32408458191380607,\n",
       " 'flt_BFi': 0.5806797173223288,\n",
       " 'flt_Wam': 0.3696333693824217,\n",
       " 'flt_Wfm': 0.29898291638369046}"
      ]
     },
     "execution_count": 47,
     "metadata": {},
     "output_type": "execute_result"
    }
   ],
   "source": [
    "calculate_overall_median(median_values_cc)"
   ]
  },
  {
   "cell_type": "code",
   "execution_count": 48,
   "id": "b8fc712e-7b26-4fbd-a283-e5064d4f6ed2",
   "metadata": {
    "execution": {
     "iopub.execute_input": "2024-06-03T08:08:11.757821Z",
     "iopub.status.busy": "2024-06-03T08:08:11.757419Z",
     "iopub.status.idle": "2024-06-03T08:08:11.767349Z",
     "shell.execute_reply": "2024-06-03T08:08:11.766582Z",
     "shell.execute_reply.started": "2024-06-03T08:08:11.757791Z"
    }
   },
   "outputs": [
    {
     "data": {
      "text/plain": [
       "{'ELF_RSlinB_FMeam_FPt_RDtGC_EHF': 0.6372758821727452,\n",
       " 'ELF_RSlinB_FMebw_FPt_RDtGC_EHF': 0.6002211256607378,\n",
       " 'ELF_RSlinB_FMefm_FPt_RDtGC_EHF': 0.3268251567073984,\n",
       " 'flt_BFi': 0.5586074061739241,\n",
       " 'flt_Wam': 0.38144137099571845,\n",
       " 'flt_Wfm': 0.31143610106791636}"
      ]
     },
     "execution_count": 48,
     "metadata": {},
     "output_type": "execute_result"
    }
   ],
   "source": [
    "calculate_overall_mean(mean_values_cc)"
   ]
  },
  {
   "cell_type": "code",
   "execution_count": 49,
   "id": "ae3a2847-0116-4a6b-acbc-0cab27ca2db1",
   "metadata": {
    "execution": {
     "iopub.execute_input": "2024-06-03T08:08:12.123496Z",
     "iopub.status.busy": "2024-06-03T08:08:12.122801Z",
     "iopub.status.idle": "2024-06-03T08:08:12.132072Z",
     "shell.execute_reply": "2024-06-03T08:08:12.131412Z",
     "shell.execute_reply.started": "2024-06-03T08:08:12.123461Z"
    },
    "scrolled": true
   },
   "outputs": [
    {
     "data": {
      "text/plain": [
       "{'ELF_RSlinB_FMeam_FPt_RDtGC_EHF': 0.09294402247492166,\n",
       " 'ELF_RSlinB_FMebw_FPt_RDtGC_EHF': 0.09438058726060645,\n",
       " 'ELF_RSlinB_FMefm_FPt_RDtGC_EHF': 0.09485677200510584,\n",
       " 'flt_BFi': 0.09139135901524713,\n",
       " 'flt_Wam': 0.09750273368732834,\n",
       " 'flt_Wfm': 0.15436918154469434}"
      ]
     },
     "execution_count": 49,
     "metadata": {},
     "output_type": "execute_result"
    }
   ],
   "source": [
    "calculate_overall_median(median_values_mse)"
   ]
  },
  {
   "cell_type": "code",
   "execution_count": 50,
   "id": "fae5d53c-eac6-4465-81c1-3e06abac82e3",
   "metadata": {
    "execution": {
     "iopub.execute_input": "2024-06-03T08:08:12.638525Z",
     "iopub.status.busy": "2024-06-03T08:08:12.637879Z",
     "iopub.status.idle": "2024-06-03T08:08:12.647411Z",
     "shell.execute_reply": "2024-06-03T08:08:12.646549Z",
     "shell.execute_reply.started": "2024-06-03T08:08:12.638494Z"
    }
   },
   "outputs": [
    {
     "data": {
      "text/plain": [
       "{'ELF_RSlinB_FMeam_FPt_RDtGC_EHF': 0.09211508864130444,\n",
       " 'ELF_RSlinB_FMebw_FPt_RDtGC_EHF': 0.09289551776604257,\n",
       " 'ELF_RSlinB_FMefm_FPt_RDtGC_EHF': 0.09550256376349406,\n",
       " 'flt_BFi': 0.09261066150064162,\n",
       " 'flt_Wam': 0.09716343168135137,\n",
       " 'flt_Wfm': 0.1672530787310588}"
      ]
     },
     "execution_count": 50,
     "metadata": {},
     "output_type": "execute_result"
    }
   ],
   "source": [
    "calculate_overall_mean(mean_values_mse)"
   ]
  },
  {
   "cell_type": "markdown",
   "id": "730fae1c-feff-4bb9-9b63-85db68a9010d",
   "metadata": {},
   "source": [
    "## Capnobase"
   ]
  },
  {
   "cell_type": "code",
   "execution_count": 51,
   "id": "7f63d512-4685-41bb-97d4-a2dcd88ceddc",
   "metadata": {
    "execution": {
     "iopub.execute_input": "2024-06-03T08:08:13.625552Z",
     "iopub.status.busy": "2024-06-03T08:08:13.625121Z",
     "iopub.status.idle": "2024-06-03T08:08:13.629341Z",
     "shell.execute_reply": "2024-06-03T08:08:13.628439Z",
     "shell.execute_reply.started": "2024-06-03T08:08:13.625521Z"
    }
   },
   "outputs": [],
   "source": [
    "directory = './capnobase_results/Analysis_files/Component_Data/'"
   ]
  },
  {
   "cell_type": "code",
   "execution_count": 52,
   "id": "6f229c50-0f3c-48f4-bfd1-42bc75b423fd",
   "metadata": {
    "execution": {
     "iopub.execute_input": "2024-06-03T08:08:13.725125Z",
     "iopub.status.busy": "2024-06-03T08:08:13.724709Z",
     "iopub.status.idle": "2024-06-03T08:08:13.755885Z",
     "shell.execute_reply": "2024-06-03T08:08:13.755438Z",
     "shell.execute_reply.started": "2024-06-03T08:08:13.725093Z"
    },
    "scrolled": true
   },
   "outputs": [],
   "source": [
    "data = load_mat_files(directory)\n",
    "cc_values, mse_values = extract_values(data)"
   ]
  },
  {
   "cell_type": "code",
   "execution_count": 53,
   "id": "a04f4c64-1201-4a96-a045-fce84e852f9c",
   "metadata": {
    "execution": {
     "iopub.execute_input": "2024-06-03T08:08:14.503514Z",
     "iopub.status.busy": "2024-06-03T08:08:14.503017Z",
     "iopub.status.idle": "2024-06-03T08:08:14.533675Z",
     "shell.execute_reply": "2024-06-03T08:08:14.533065Z",
     "shell.execute_reply.started": "2024-06-03T08:08:14.503480Z"
    }
   },
   "outputs": [],
   "source": [
    "median_values_cc = calculate_median(cc_values)\n",
    "median_values_mse = calculate_median(mse_values)"
   ]
  },
  {
   "cell_type": "code",
   "execution_count": 54,
   "id": "e7586573-fd27-4cf5-be51-e0ce603ef236",
   "metadata": {
    "execution": {
     "iopub.execute_input": "2024-06-03T08:08:14.953042Z",
     "iopub.status.busy": "2024-06-03T08:08:14.952595Z",
     "iopub.status.idle": "2024-06-03T08:08:14.983705Z",
     "shell.execute_reply": "2024-06-03T08:08:14.982884Z",
     "shell.execute_reply.started": "2024-06-03T08:08:14.953011Z"
    }
   },
   "outputs": [],
   "source": [
    "mean_values_cc = calculate_mean(cc_values)\n",
    "mean_values_mse = calculate_mean(mse_values)"
   ]
  },
  {
   "cell_type": "code",
   "execution_count": 55,
   "id": "77941e29-d40a-468b-b63d-e0c3c0aa8e8b",
   "metadata": {
    "execution": {
     "iopub.execute_input": "2024-06-03T08:08:15.450174Z",
     "iopub.status.busy": "2024-06-03T08:08:15.449743Z",
     "iopub.status.idle": "2024-06-03T08:08:15.460995Z",
     "shell.execute_reply": "2024-06-03T08:08:15.459955Z",
     "shell.execute_reply.started": "2024-06-03T08:08:15.450145Z"
    }
   },
   "outputs": [
    {
     "data": {
      "text/plain": [
       "{'ELF_RSlinB_FMeam_FPt_RDtGC_EHF': 0.8611708902922213,\n",
       " 'ELF_RSlinB_FMebw_FPt_RDtGC_EHF': 0.6931336921888314,\n",
       " 'ELF_RSlinB_FMefm_FPt_RDtGC_EHF': 0.6897644243814938,\n",
       " 'flt_BFi': 0.45598445558912803,\n",
       " 'flt_Wam': 0.45213411987543184,\n",
       " 'flt_Wfm': 0.40757009418580525}"
      ]
     },
     "execution_count": 55,
     "metadata": {},
     "output_type": "execute_result"
    }
   ],
   "source": [
    "calculate_overall_median(median_values_cc)"
   ]
  },
  {
   "cell_type": "code",
   "execution_count": 56,
   "id": "96b96c2c-d397-4743-a4ad-12b276f71ec1",
   "metadata": {
    "execution": {
     "iopub.execute_input": "2024-06-03T08:08:17.590508Z",
     "iopub.status.busy": "2024-06-03T08:08:17.590065Z",
     "iopub.status.idle": "2024-06-03T08:08:17.600852Z",
     "shell.execute_reply": "2024-06-03T08:08:17.599700Z",
     "shell.execute_reply.started": "2024-06-03T08:08:17.590480Z"
    }
   },
   "outputs": [
    {
     "data": {
      "text/plain": [
       "{'ELF_RSlinB_FMeam_FPt_RDtGC_EHF': 0.8330416025511844,\n",
       " 'ELF_RSlinB_FMebw_FPt_RDtGC_EHF': 0.6596325235201358,\n",
       " 'ELF_RSlinB_FMefm_FPt_RDtGC_EHF': 0.6599929731951029,\n",
       " 'flt_BFi': 0.4188092218740107,\n",
       " 'flt_Wam': 0.42940958605211926,\n",
       " 'flt_Wfm': 0.4140829981639218}"
      ]
     },
     "execution_count": 56,
     "metadata": {},
     "output_type": "execute_result"
    }
   ],
   "source": [
    "calculate_overall_mean(mean_values_cc)"
   ]
  },
  {
   "cell_type": "code",
   "execution_count": 57,
   "id": "68807596-1779-4d5e-9e02-af3f9ad41bb1",
   "metadata": {
    "execution": {
     "iopub.execute_input": "2024-06-03T08:08:19.344428Z",
     "iopub.status.busy": "2024-06-03T08:08:19.343965Z",
     "iopub.status.idle": "2024-06-03T08:08:19.353294Z",
     "shell.execute_reply": "2024-06-03T08:08:19.352589Z",
     "shell.execute_reply.started": "2024-06-03T08:08:19.344396Z"
    }
   },
   "outputs": [
    {
     "data": {
      "text/plain": [
       "{'ELF_RSlinB_FMeam_FPt_RDtGC_EHF': 0.04839334326332245,\n",
       " 'ELF_RSlinB_FMebw_FPt_RDtGC_EHF': 0.08120463431092063,\n",
       " 'ELF_RSlinB_FMefm_FPt_RDtGC_EHF': 0.0759892699823336,\n",
       " 'flt_BFi': 0.11813423559092215,\n",
       " 'flt_Wam': 0.12086288733420263,\n",
       " 'flt_Wfm': 0.12552053905685007}"
      ]
     },
     "execution_count": 57,
     "metadata": {},
     "output_type": "execute_result"
    }
   ],
   "source": [
    "calculate_overall_median(median_values_mse)"
   ]
  },
  {
   "cell_type": "code",
   "execution_count": 58,
   "id": "5f071427-b20c-47fe-a12d-7dbf5a1d44d3",
   "metadata": {
    "execution": {
     "iopub.execute_input": "2024-06-03T08:08:20.737778Z",
     "iopub.status.busy": "2024-06-03T08:08:20.737356Z",
     "iopub.status.idle": "2024-06-03T08:08:20.747477Z",
     "shell.execute_reply": "2024-06-03T08:08:20.746057Z",
     "shell.execute_reply.started": "2024-06-03T08:08:20.737749Z"
    }
   },
   "outputs": [
    {
     "data": {
      "text/plain": [
       "{'ELF_RSlinB_FMeam_FPt_RDtGC_EHF': 0.057340347402984417,\n",
       " 'ELF_RSlinB_FMebw_FPt_RDtGC_EHF': 0.08609671091004677,\n",
       " 'ELF_RSlinB_FMefm_FPt_RDtGC_EHF': 0.08289334234411427,\n",
       " 'flt_BFi': 0.11288783251743041,\n",
       " 'flt_Wam': 0.12566097266572143,\n",
       " 'flt_Wfm': 0.13239046138302132}"
      ]
     },
     "execution_count": 58,
     "metadata": {},
     "output_type": "execute_result"
    }
   ],
   "source": [
    "calculate_overall_mean(mean_values_mse)"
   ]
  },
  {
   "cell_type": "code",
   "execution_count": null,
   "id": "03c9a480-fa8e-4be3-ab83-77d5c1d8d082",
   "metadata": {},
   "outputs": [],
   "source": []
  }
 ],
 "metadata": {
  "kernelspec": {
   "display_name": "Python (tf_m1)",
   "language": "python",
   "name": "tf_m1"
  },
  "language_info": {
   "codemirror_mode": {
    "name": "ipython",
    "version": 3
   },
   "file_extension": ".py",
   "mimetype": "text/x-python",
   "name": "python",
   "nbconvert_exporter": "python",
   "pygments_lexer": "ipython3",
   "version": "3.9.19"
  }
 },
 "nbformat": 4,
 "nbformat_minor": 5
}
