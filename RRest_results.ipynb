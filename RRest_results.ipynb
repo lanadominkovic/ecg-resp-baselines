{
 "cells": [
  {
   "cell_type": "markdown",
   "id": "3ab985f8-4179-4e1a-a70c-4fbb9d531b38",
   "metadata": {},
   "source": [
    "# Overview of signal processing results for ecg derived respiration"
   ]
  },
  {
   "cell_type": "code",
   "execution_count": 120,
   "id": "122a8917-dc92-4922-b36a-af49a12b4733",
   "metadata": {
    "execution": {
     "iopub.execute_input": "2024-05-18T13:52:01.492845Z",
     "iopub.status.busy": "2024-05-18T13:52:01.490087Z",
     "iopub.status.idle": "2024-05-18T13:52:01.519806Z",
     "shell.execute_reply": "2024-05-18T13:52:01.519195Z",
     "shell.execute_reply.started": "2024-05-18T13:52:01.492747Z"
    }
   },
   "outputs": [],
   "source": [
    "import pandas as pd"
   ]
  },
  {
   "cell_type": "markdown",
   "id": "1b69e518-c069-4584-9bbd-c7235ef523fe",
   "metadata": {},
   "source": [
    "## BIDMC\n",
    "Results from RRest toolbox saved at: bidmc_results\n",
    "\n",
    "Component data: per subject the CC's are store in separated file *_CC.mat; also each file has CC values per algorithm and per window"
   ]
  },
  {
   "cell_type": "markdown",
   "id": "6fb0086a-3191-43b5-a6e9-46b1a4d28b4c",
   "metadata": {},
   "source": [
    "### Calculating CC's"
   ]
  },
  {
   "cell_type": "code",
   "execution_count": 3,
   "id": "4e92cc79-706b-429e-95e3-633265f10c63",
   "metadata": {
    "execution": {
     "iopub.execute_input": "2024-05-24T14:00:48.506680Z",
     "iopub.status.busy": "2024-05-24T14:00:48.505948Z",
     "iopub.status.idle": "2024-05-24T14:00:48.916657Z",
     "shell.execute_reply": "2024-05-24T14:00:48.915909Z",
     "shell.execute_reply.started": "2024-05-24T14:00:48.506622Z"
    }
   },
   "outputs": [],
   "source": [
    "import scipy.io\n",
    "import numpy as np\n",
    "import os\n",
    "import glob\n",
    "\n",
    "def load_mat_files(directory):\n",
    "    \"\"\"Load all *_cc.mat files from the given directory.\"\"\"\n",
    "    files = glob.glob(os.path.join(directory, '*_cc.mat'))\n",
    "    data = {}\n",
    "    for file in files:\n",
    "        subject_id = os.path.basename(file).split('_')[0]\n",
    "        mat_data = scipy.io.loadmat(file)\n",
    "        data[subject_id] = mat_data\n",
    "    return data\n",
    "\n",
    "def extract_values(data, signal_prefix='ekg'):\n",
    "    \"\"\"Extract CC & MSE values for a specific signal type from the loaded mat files.\"\"\"\n",
    "    cc_values = {}\n",
    "    mse_values = {}\n",
    "    \n",
    "    for subject, mat_data in data.items():\n",
    "        for key in mat_data:\n",
    "            if key.startswith(signal_prefix) and isinstance(mat_data[key], np.ndarray):\n",
    "                if 'CCp' in mat_data[key].dtype.names:\n",
    "                    method = key.split('_', 1)[1]  # Extract method name\n",
    "                    cc_values.setdefault(subject, {}).setdefault(method, []).extend(mat_data[key]['CCp'][0])\n",
    "    \n",
    "                if 'MSE' in mat_data[key].dtype.names:\n",
    "                        method = key.split('_', 1)[1]  # Extract method name\n",
    "                        mse_values.setdefault(subject, {}).setdefault(method, []).extend(mat_data[key]['MSE'][0])\n",
    "    return cc_values, mse_values\n",
    "\n",
    "def calculate_median(values):\n",
    "    \"\"\"Calculate the median for each subject and each method.\"\"\"\n",
    "    median_values = {}\n",
    "    for subject, methods in values.items():\n",
    "        median_values[subject] = {}\n",
    "        for method, value in methods.items():\n",
    "            median_values[subject][method] = np.nanmedian(value)\n",
    "    return median_values\n",
    "\n",
    "def calculate_mean(values):\n",
    "    \"\"\"Calculate the mean for each subject and each method.\"\"\"\n",
    "    mean_values = {}\n",
    "    for subject, methods in values.items():\n",
    "        mean_values[subject] = {}\n",
    "        for method, value in methods.items():\n",
    "            mean_values[subject][method] = np.nanmean(value)\n",
    "    return mean_values\n",
    "\n",
    "def calculate_overall_median(median):\n",
    "    \"\"\"Calculate the overall median across all subjects for each method.\"\"\"\n",
    "    method_values = {}\n",
    "    for methods in median.values():\n",
    "        for method, value in methods.items():\n",
    "            method_values.setdefault(method, []).append(value)\n",
    "    for method, values in method_values.items():\n",
    "        overall_median = {method: np.nanmedian(values) for method, values in method_values.items()}\n",
    "    return overall_median\n",
    "\n",
    "def calculate_overall_mean(mean):\n",
    "    \"\"\"Calculate the overall mean across all subjects for each method.\"\"\"\n",
    "    method_values = {}\n",
    "    for methods in mean.values():\n",
    "        for method, value in methods.items():\n",
    "            method_values.setdefault(method, []).append(value)\n",
    "    for method, values in method_values.items():\n",
    "        overall_mean = {method: np.nanmedian(values) for method, values in method_values.items()}\n",
    "    return overall_mean"
   ]
  },
  {
   "cell_type": "code",
   "execution_count": 129,
   "id": "dbbb4f57-8821-43b2-8b3f-0aff25fcd1ec",
   "metadata": {
    "execution": {
     "iopub.execute_input": "2024-05-18T14:11:40.386524Z",
     "iopub.status.busy": "2024-05-18T14:11:40.385749Z",
     "iopub.status.idle": "2024-05-18T14:11:40.391566Z",
     "shell.execute_reply": "2024-05-18T14:11:40.390608Z",
     "shell.execute_reply.started": "2024-05-18T14:11:40.386466Z"
    }
   },
   "outputs": [],
   "source": [
    "directory = './bidmc_results/Analysis_files/Component_Data/'"
   ]
  },
  {
   "cell_type": "code",
   "execution_count": 130,
   "id": "584556de-be94-4ded-90de-265e36c9452d",
   "metadata": {
    "execution": {
     "iopub.execute_input": "2024-05-18T14:11:40.742456Z",
     "iopub.status.busy": "2024-05-18T14:11:40.742001Z",
     "iopub.status.idle": "2024-05-18T14:11:40.803794Z",
     "shell.execute_reply": "2024-05-18T14:11:40.803322Z",
     "shell.execute_reply.started": "2024-05-18T14:11:40.742423Z"
    }
   },
   "outputs": [],
   "source": [
    "data = load_mat_files(directory)\n",
    "cc_values, mse_values = extract_values(data)"
   ]
  },
  {
   "cell_type": "code",
   "execution_count": 136,
   "id": "61a6a142-cf8b-4790-bebf-66bc3119eee8",
   "metadata": {
    "execution": {
     "iopub.execute_input": "2024-05-18T14:12:29.718341Z",
     "iopub.status.busy": "2024-05-18T14:12:29.717878Z",
     "iopub.status.idle": "2024-05-18T14:12:29.752638Z",
     "shell.execute_reply": "2024-05-18T14:12:29.752104Z",
     "shell.execute_reply.started": "2024-05-18T14:12:29.718308Z"
    },
    "scrolled": true
   },
   "outputs": [],
   "source": [
    "median_values_cc = calculate_median(cc_values)\n",
    "median_values_mse = calculate_median(mse_values)"
   ]
  },
  {
   "cell_type": "code",
   "execution_count": 137,
   "id": "9f89b134-1bd4-4595-bbb4-0563429cb666",
   "metadata": {
    "execution": {
     "iopub.execute_input": "2024-05-18T14:12:30.219206Z",
     "iopub.status.busy": "2024-05-18T14:12:30.218752Z",
     "iopub.status.idle": "2024-05-18T14:12:30.254688Z",
     "shell.execute_reply": "2024-05-18T14:12:30.254097Z",
     "shell.execute_reply.started": "2024-05-18T14:12:30.219174Z"
    },
    "scrolled": true
   },
   "outputs": [],
   "source": [
    "mean_values_cc = calculate_mean(cc_values)\n",
    "mean_values_mse = calculate_mean(mse_values)"
   ]
  },
  {
   "cell_type": "code",
   "execution_count": 138,
   "id": "a2bc73bd-8cee-4e75-abaf-82d7ab6b30b4",
   "metadata": {
    "execution": {
     "iopub.execute_input": "2024-05-18T14:12:34.317676Z",
     "iopub.status.busy": "2024-05-18T14:12:34.317071Z",
     "iopub.status.idle": "2024-05-18T14:12:34.331075Z",
     "shell.execute_reply": "2024-05-18T14:12:34.330042Z",
     "shell.execute_reply.started": "2024-05-18T14:12:34.317615Z"
    }
   },
   "outputs": [
    {
     "data": {
      "text/plain": [
       "{'ELF_RSlinB_FMeam_FPt_RDtGC_EHF': 0.6689206558933194,\n",
       " 'ELF_RSlinB_FMebw_FPt_RDtGC_EHF': 0.6244211874382044,\n",
       " 'ELF_RSlinB_FMefm_FPt_RDtGC_EHF': 0.32408458191380607,\n",
       " 'flt_BFi': 0.5806797173223288,\n",
       " 'flt_Wam': 0.3696333693824217,\n",
       " 'flt_Wfm': 0.29898291638369046}"
      ]
     },
     "execution_count": 138,
     "metadata": {},
     "output_type": "execute_result"
    }
   ],
   "source": [
    "calculate_overall_median(median_values_cc)"
   ]
  },
  {
   "cell_type": "code",
   "execution_count": 139,
   "id": "b8fc712e-7b26-4fbd-a283-e5064d4f6ed2",
   "metadata": {
    "execution": {
     "iopub.execute_input": "2024-05-18T14:12:37.865973Z",
     "iopub.status.busy": "2024-05-18T14:12:37.865304Z",
     "iopub.status.idle": "2024-05-18T14:12:37.877379Z",
     "shell.execute_reply": "2024-05-18T14:12:37.876646Z",
     "shell.execute_reply.started": "2024-05-18T14:12:37.865939Z"
    }
   },
   "outputs": [
    {
     "data": {
      "text/plain": [
       "{'ELF_RSlinB_FMeam_FPt_RDtGC_EHF': 0.6372758821727452,\n",
       " 'ELF_RSlinB_FMebw_FPt_RDtGC_EHF': 0.6002211256607378,\n",
       " 'ELF_RSlinB_FMefm_FPt_RDtGC_EHF': 0.3268251567073984,\n",
       " 'flt_BFi': 0.5586074061739241,\n",
       " 'flt_Wam': 0.38144137099571845,\n",
       " 'flt_Wfm': 0.31143610106791636}"
      ]
     },
     "execution_count": 139,
     "metadata": {},
     "output_type": "execute_result"
    }
   ],
   "source": [
    "calculate_overall_mean(mean_values_cc)"
   ]
  },
  {
   "cell_type": "code",
   "execution_count": 140,
   "id": "ae3a2847-0116-4a6b-acbc-0cab27ca2db1",
   "metadata": {
    "execution": {
     "iopub.execute_input": "2024-05-18T14:12:42.978381Z",
     "iopub.status.busy": "2024-05-18T14:12:42.977952Z",
     "iopub.status.idle": "2024-05-18T14:12:42.990138Z",
     "shell.execute_reply": "2024-05-18T14:12:42.988923Z",
     "shell.execute_reply.started": "2024-05-18T14:12:42.978351Z"
    },
    "scrolled": true
   },
   "outputs": [
    {
     "data": {
      "text/plain": [
       "{'ELF_RSlinB_FMeam_FPt_RDtGC_EHF': 0.09294402247492166,\n",
       " 'ELF_RSlinB_FMebw_FPt_RDtGC_EHF': 0.09438058726060645,\n",
       " 'ELF_RSlinB_FMefm_FPt_RDtGC_EHF': 0.09485677200510584,\n",
       " 'flt_BFi': 0.09139135901524713,\n",
       " 'flt_Wam': 0.09750273368732834,\n",
       " 'flt_Wfm': 0.15436918154469434}"
      ]
     },
     "execution_count": 140,
     "metadata": {},
     "output_type": "execute_result"
    }
   ],
   "source": [
    "calculate_overall_median(median_values_mse)"
   ]
  },
  {
   "cell_type": "code",
   "execution_count": 141,
   "id": "fae5d53c-eac6-4465-81c1-3e06abac82e3",
   "metadata": {
    "execution": {
     "iopub.execute_input": "2024-05-18T14:12:52.889090Z",
     "iopub.status.busy": "2024-05-18T14:12:52.888614Z",
     "iopub.status.idle": "2024-05-18T14:12:52.897466Z",
     "shell.execute_reply": "2024-05-18T14:12:52.896751Z",
     "shell.execute_reply.started": "2024-05-18T14:12:52.889058Z"
    }
   },
   "outputs": [
    {
     "data": {
      "text/plain": [
       "{'ELF_RSlinB_FMeam_FPt_RDtGC_EHF': 0.09211508864130444,\n",
       " 'ELF_RSlinB_FMebw_FPt_RDtGC_EHF': 0.09289551776604257,\n",
       " 'ELF_RSlinB_FMefm_FPt_RDtGC_EHF': 0.09550256376349406,\n",
       " 'flt_BFi': 0.09261066150064162,\n",
       " 'flt_Wam': 0.09716343168135137,\n",
       " 'flt_Wfm': 0.1672530787310588}"
      ]
     },
     "execution_count": 141,
     "metadata": {},
     "output_type": "execute_result"
    }
   ],
   "source": [
    "calculate_overall_mean(mean_values_mse)"
   ]
  },
  {
   "cell_type": "markdown",
   "id": "730fae1c-feff-4bb9-9b63-85db68a9010d",
   "metadata": {},
   "source": [
    "## Capnobase"
   ]
  },
  {
   "cell_type": "code",
   "execution_count": 1,
   "id": "7f63d512-4685-41bb-97d4-a2dcd88ceddc",
   "metadata": {
    "execution": {
     "iopub.execute_input": "2024-05-24T14:00:31.380702Z",
     "iopub.status.busy": "2024-05-24T14:00:31.380014Z",
     "iopub.status.idle": "2024-05-24T14:00:31.391365Z",
     "shell.execute_reply": "2024-05-24T14:00:31.390621Z",
     "shell.execute_reply.started": "2024-05-24T14:00:31.380666Z"
    }
   },
   "outputs": [],
   "source": [
    "directory = './capnobase_results/Analysis_files/Component_Data/'"
   ]
  },
  {
   "cell_type": "code",
   "execution_count": 4,
   "id": "6f229c50-0f3c-48f4-bfd1-42bc75b423fd",
   "metadata": {
    "execution": {
     "iopub.execute_input": "2024-05-24T14:00:51.725655Z",
     "iopub.status.busy": "2024-05-24T14:00:51.725008Z",
     "iopub.status.idle": "2024-05-24T14:00:51.773642Z",
     "shell.execute_reply": "2024-05-24T14:00:51.773208Z",
     "shell.execute_reply.started": "2024-05-24T14:00:51.725609Z"
    }
   },
   "outputs": [],
   "source": [
    "data = load_mat_files(directory)\n",
    "cc_values, mse_values = extract_values(data)"
   ]
  },
  {
   "cell_type": "code",
   "execution_count": 5,
   "id": "a04f4c64-1201-4a96-a045-fce84e852f9c",
   "metadata": {
    "execution": {
     "iopub.execute_input": "2024-05-24T14:01:02.864464Z",
     "iopub.status.busy": "2024-05-24T14:01:02.863871Z",
     "iopub.status.idle": "2024-05-24T14:01:02.895703Z",
     "shell.execute_reply": "2024-05-24T14:01:02.895234Z",
     "shell.execute_reply.started": "2024-05-24T14:01:02.864420Z"
    }
   },
   "outputs": [],
   "source": [
    "median_values_cc = calculate_median(cc_values)\n",
    "median_values_mse = calculate_median(mse_values)"
   ]
  },
  {
   "cell_type": "code",
   "execution_count": 6,
   "id": "e7586573-fd27-4cf5-be51-e0ce603ef236",
   "metadata": {
    "execution": {
     "iopub.execute_input": "2024-05-24T14:01:07.945063Z",
     "iopub.status.busy": "2024-05-24T14:01:07.944593Z",
     "iopub.status.idle": "2024-05-24T14:01:07.974690Z",
     "shell.execute_reply": "2024-05-24T14:01:07.974172Z",
     "shell.execute_reply.started": "2024-05-24T14:01:07.945032Z"
    }
   },
   "outputs": [],
   "source": [
    "mean_values_cc = calculate_mean(cc_values)\n",
    "mean_values_mse = calculate_mean(mse_values)"
   ]
  },
  {
   "cell_type": "code",
   "execution_count": 7,
   "id": "77941e29-d40a-468b-b63d-e0c3c0aa8e8b",
   "metadata": {
    "execution": {
     "iopub.execute_input": "2024-05-24T14:01:12.553956Z",
     "iopub.status.busy": "2024-05-24T14:01:12.553523Z",
     "iopub.status.idle": "2024-05-24T14:01:12.565900Z",
     "shell.execute_reply": "2024-05-24T14:01:12.565167Z",
     "shell.execute_reply.started": "2024-05-24T14:01:12.553926Z"
    }
   },
   "outputs": [
    {
     "data": {
      "text/plain": [
       "{'ELF_RSlinB_FMeam_FPt_RDtGC_EHF': 0.8611708902922213,\n",
       " 'ELF_RSlinB_FMebw_FPt_RDtGC_EHF': 0.6931336921888313,\n",
       " 'ELF_RSlinB_FMefm_FPt_RDtGC_EHF': 0.6897644243814937,\n",
       " 'flt_BFi': 0.45598445558912815,\n",
       " 'flt_Wam': 0.452134119875432,\n",
       " 'flt_Wfm': 0.40757009418580536}"
      ]
     },
     "execution_count": 7,
     "metadata": {},
     "output_type": "execute_result"
    }
   ],
   "source": [
    "calculate_overall_median(median_values_cc)"
   ]
  },
  {
   "cell_type": "code",
   "execution_count": 8,
   "id": "96b96c2c-d397-4743-a4ad-12b276f71ec1",
   "metadata": {
    "execution": {
     "iopub.execute_input": "2024-05-24T14:01:20.654817Z",
     "iopub.status.busy": "2024-05-24T14:01:20.654363Z",
     "iopub.status.idle": "2024-05-24T14:01:20.663279Z",
     "shell.execute_reply": "2024-05-24T14:01:20.662527Z",
     "shell.execute_reply.started": "2024-05-24T14:01:20.654788Z"
    }
   },
   "outputs": [
    {
     "data": {
      "text/plain": [
       "{'ELF_RSlinB_FMeam_FPt_RDtGC_EHF': 0.8330416025511844,\n",
       " 'ELF_RSlinB_FMebw_FPt_RDtGC_EHF': 0.6596325235201358,\n",
       " 'ELF_RSlinB_FMefm_FPt_RDtGC_EHF': 0.6599929731951029,\n",
       " 'flt_BFi': 0.41880922187401076,\n",
       " 'flt_Wam': 0.4294095860521194,\n",
       " 'flt_Wfm': 0.41408299816392186}"
      ]
     },
     "execution_count": 8,
     "metadata": {},
     "output_type": "execute_result"
    }
   ],
   "source": [
    "calculate_overall_mean(mean_values_cc)"
   ]
  },
  {
   "cell_type": "code",
   "execution_count": 9,
   "id": "68807596-1779-4d5e-9e02-af3f9ad41bb1",
   "metadata": {
    "execution": {
     "iopub.execute_input": "2024-05-24T14:01:29.114341Z",
     "iopub.status.busy": "2024-05-24T14:01:29.113927Z",
     "iopub.status.idle": "2024-05-24T14:01:29.127317Z",
     "shell.execute_reply": "2024-05-24T14:01:29.126106Z",
     "shell.execute_reply.started": "2024-05-24T14:01:29.114313Z"
    }
   },
   "outputs": [
    {
     "data": {
      "text/plain": [
       "{'ELF_RSlinB_FMeam_FPt_RDtGC_EHF': 4.881811909348275,\n",
       " 'ELF_RSlinB_FMebw_FPt_RDtGC_EHF': 4.779549982605635,\n",
       " 'ELF_RSlinB_FMefm_FPt_RDtGC_EHF': 4.891174804950032,\n",
       " 'flt_BFi': 4.154816612003374,\n",
       " 'flt_Wam': 4.541281095208337,\n",
       " 'flt_Wfm': 4.635918879319988}"
      ]
     },
     "execution_count": 9,
     "metadata": {},
     "output_type": "execute_result"
    }
   ],
   "source": [
    "calculate_overall_median(median_values_mse)"
   ]
  },
  {
   "cell_type": "code",
   "execution_count": 10,
   "id": "5f071427-b20c-47fe-a12d-7dbf5a1d44d3",
   "metadata": {
    "execution": {
     "iopub.execute_input": "2024-05-24T14:01:36.069275Z",
     "iopub.status.busy": "2024-05-24T14:01:36.068510Z",
     "iopub.status.idle": "2024-05-24T14:01:36.080267Z",
     "shell.execute_reply": "2024-05-24T14:01:36.079571Z",
     "shell.execute_reply.started": "2024-05-24T14:01:36.069217Z"
    }
   },
   "outputs": [
    {
     "data": {
      "text/plain": [
       "{'ELF_RSlinB_FMeam_FPt_RDtGC_EHF': 4.8610053380238325,\n",
       " 'ELF_RSlinB_FMebw_FPt_RDtGC_EHF': 4.742431557010952,\n",
       " 'ELF_RSlinB_FMefm_FPt_RDtGC_EHF': 4.8840453552166725,\n",
       " 'flt_BFi': 4.773954191975217,\n",
       " 'flt_Wam': 4.725928338140318,\n",
       " 'flt_Wfm': 4.6473803231535555}"
      ]
     },
     "execution_count": 10,
     "metadata": {},
     "output_type": "execute_result"
    }
   ],
   "source": [
    "calculate_overall_mean(mean_values_mse)"
   ]
  },
  {
   "cell_type": "code",
   "execution_count": 11,
   "id": "6304f3a6-98ea-420e-82de-378a104c9f21",
   "metadata": {
    "execution": {
     "iopub.execute_input": "2024-05-24T14:02:11.660528Z",
     "iopub.status.busy": "2024-05-24T14:02:11.658944Z",
     "iopub.status.idle": "2024-05-24T14:02:11.667905Z",
     "shell.execute_reply": "2024-05-24T14:02:11.666872Z",
     "shell.execute_reply.started": "2024-05-24T14:02:11.660458Z"
    }
   },
   "outputs": [],
   "source": [
    "# capnobase: are signals normalised to [0,1] scale?"
   ]
  },
  {
   "cell_type": "code",
   "execution_count": null,
   "id": "9618f663-5744-4bfa-acc0-cab8f8fb24d0",
   "metadata": {},
   "outputs": [],
   "source": []
  }
 ],
 "metadata": {
  "kernelspec": {
   "display_name": "Python (tf_m1)",
   "language": "python",
   "name": "tf_m1"
  },
  "language_info": {
   "codemirror_mode": {
    "name": "ipython",
    "version": 3
   },
   "file_extension": ".py",
   "mimetype": "text/x-python",
   "name": "python",
   "nbconvert_exporter": "python",
   "pygments_lexer": "ipython3",
   "version": "3.9.19"
  }
 },
 "nbformat": 4,
 "nbformat_minor": 5
}
