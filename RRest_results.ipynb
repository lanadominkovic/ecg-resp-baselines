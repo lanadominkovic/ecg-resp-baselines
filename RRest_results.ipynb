{
 "cells": [
  {
   "cell_type": "markdown",
   "id": "3ab985f8-4179-4e1a-a70c-4fbb9d531b38",
   "metadata": {},
   "source": [
    "# Overview of signal processing results for ecg derived respiration"
   ]
  },
  {
   "cell_type": "code",
   "execution_count": 120,
   "id": "122a8917-dc92-4922-b36a-af49a12b4733",
   "metadata": {
    "execution": {
     "iopub.execute_input": "2024-05-18T13:52:01.492845Z",
     "iopub.status.busy": "2024-05-18T13:52:01.490087Z",
     "iopub.status.idle": "2024-05-18T13:52:01.519806Z",
     "shell.execute_reply": "2024-05-18T13:52:01.519195Z",
     "shell.execute_reply.started": "2024-05-18T13:52:01.492747Z"
    }
   },
   "outputs": [],
   "source": [
    "import pandas as pd"
   ]
  },
  {
   "cell_type": "markdown",
   "id": "1b69e518-c069-4584-9bbd-c7235ef523fe",
   "metadata": {},
   "source": [
    "## BIDMC\n",
    "Results from RRest toolbox saved at: bidmc_results\n",
    "\n",
    "Component data: per subject the CC's are store in separated file *_CC.mat; also each file has CC values per algorithm and per window"
   ]
  },
  {
   "cell_type": "markdown",
   "id": "6fb0086a-3191-43b5-a6e9-46b1a4d28b4c",
   "metadata": {},
   "source": [
    "### Calculating CC's"
   ]
  },
  {
   "cell_type": "code",
   "execution_count": 68,
   "id": "4e92cc79-706b-429e-95e3-633265f10c63",
   "metadata": {
    "execution": {
     "iopub.execute_input": "2024-06-03T08:38:10.041129Z",
     "iopub.status.busy": "2024-06-03T08:38:10.040217Z",
     "iopub.status.idle": "2024-06-03T08:38:10.069831Z",
     "shell.execute_reply": "2024-06-03T08:38:10.068391Z",
     "shell.execute_reply.started": "2024-06-03T08:38:10.041050Z"
    }
   },
   "outputs": [],
   "source": [
    "import scipy.io\n",
    "import numpy as np\n",
    "import os\n",
    "import glob\n",
    "\n",
    "def load_mat_files(directory):\n",
    "    \"\"\"Load all *_cc.mat files from the given directory.\"\"\"\n",
    "    files = glob.glob(os.path.join(directory, '*_cc.mat'))\n",
    "    data = {}\n",
    "    for file in files:\n",
    "        subject_id = os.path.basename(file).split('_')[0]\n",
    "        mat_data = scipy.io.loadmat(file)\n",
    "        data[subject_id] = mat_data\n",
    "    return data\n",
    "\n",
    "def extract_values(data, signal_prefix='ekg'):\n",
    "    \"\"\"Extract CC & MSE values for a specific signal type from the loaded mat files.\"\"\"\n",
    "    cc_values = {}\n",
    "    mse_values = {}\n",
    "    \n",
    "    for subject, mat_data in data.items():\n",
    "        for key in mat_data:\n",
    "            if key.startswith(signal_prefix) and isinstance(mat_data[key], np.ndarray):\n",
    "                if 'CCp' in mat_data[key].dtype.names:\n",
    "                    method = key.split('_', 1)[1]  # Extract method name\n",
    "                    cc_values.setdefault(subject, {}).setdefault(method, []).extend(mat_data[key]['CCp'][0])\n",
    "    \n",
    "                if 'MSE' in mat_data[key].dtype.names:\n",
    "                        method = key.split('_', 1)[1]  # Extract method name\n",
    "                        mse_values.setdefault(subject, {}).setdefault(method, []).extend(mat_data[key]['MSE'][0])\n",
    "    return cc_values, mse_values\n",
    "\n",
    "def calculate_median(values):\n",
    "    \"\"\"Calculate the median for each subject and each method.\"\"\"\n",
    "    median_values = {}\n",
    "    for subject, methods in values.items():\n",
    "        median_values[subject] = {}\n",
    "        for method, value in methods.items():\n",
    "            median_values[subject][method] = np.nanmedian(value)\n",
    "    return median_values\n",
    "\n",
    "def calculate_mean(values):\n",
    "    \"\"\"Calculate the mean for each subject and each method.\"\"\"\n",
    "    mean_values = {}\n",
    "    for subject, methods in values.items():\n",
    "        mean_values[subject] = {}\n",
    "        for method, value in methods.items():\n",
    "            mean_values[subject][method] = np.nanmean(value)\n",
    "    return mean_values\n",
    "\n",
    "def calculate_overall_median(median):\n",
    "    \"\"\"Calculate the overall median across all subjects for each method.\"\"\"\n",
    "    method_values = {}\n",
    "    for methods in median.values():\n",
    "        for method, value in methods.items():\n",
    "            method_values.setdefault(method, []).append(value)\n",
    "    for method, values in method_values.items():\n",
    "        overall_median = {method: np.nanmedian(values) for method, values in method_values.items()}\n",
    "    return overall_median\n",
    "\n",
    "def calculate_overall_mean(mean):\n",
    "    \"\"\"Calculate the overall mean across all subjects for each method.\"\"\"\n",
    "    method_values = {}\n",
    "    for methods in mean.values():\n",
    "        for method, value in methods.items():\n",
    "            method_values.setdefault(method, []).append(value)\n",
    "    for method, values in method_values.items():\n",
    "        overall_mean = {method: np.nanmedian(values) for method, values in method_values.items()}\n",
    "    return overall_mean"
   ]
  },
  {
   "cell_type": "code",
   "execution_count": 69,
   "id": "dbbb4f57-8821-43b2-8b3f-0aff25fcd1ec",
   "metadata": {
    "execution": {
     "iopub.execute_input": "2024-06-03T08:38:10.457359Z",
     "iopub.status.busy": "2024-06-03T08:38:10.456928Z",
     "iopub.status.idle": "2024-06-03T08:38:10.461464Z",
     "shell.execute_reply": "2024-06-03T08:38:10.460297Z",
     "shell.execute_reply.started": "2024-06-03T08:38:10.457330Z"
    }
   },
   "outputs": [],
   "source": [
    "directory = './bidmc_results/Analysis_files/Component_Data/'"
   ]
  },
  {
   "cell_type": "code",
   "execution_count": 70,
   "id": "584556de-be94-4ded-90de-265e36c9452d",
   "metadata": {
    "execution": {
     "iopub.execute_input": "2024-06-03T08:38:10.874815Z",
     "iopub.status.busy": "2024-06-03T08:38:10.874425Z",
     "iopub.status.idle": "2024-06-03T08:38:10.905674Z",
     "shell.execute_reply": "2024-06-03T08:38:10.905122Z",
     "shell.execute_reply.started": "2024-06-03T08:38:10.874787Z"
    },
    "scrolled": true
   },
   "outputs": [],
   "source": [
    "data = load_mat_files(directory)\n",
    "cc_values, mse_values = extract_values(data)"
   ]
  },
  {
   "cell_type": "code",
   "execution_count": 71,
   "id": "61a6a142-cf8b-4790-bebf-66bc3119eee8",
   "metadata": {
    "execution": {
     "iopub.execute_input": "2024-06-03T08:38:11.307099Z",
     "iopub.status.busy": "2024-06-03T08:38:11.306685Z",
     "iopub.status.idle": "2024-06-03T08:38:11.342961Z",
     "shell.execute_reply": "2024-06-03T08:38:11.342118Z",
     "shell.execute_reply.started": "2024-06-03T08:38:11.307067Z"
    },
    "scrolled": true
   },
   "outputs": [],
   "source": [
    "median_values_cc = calculate_median(cc_values)\n",
    "median_values_mse = calculate_median(mse_values)"
   ]
  },
  {
   "cell_type": "code",
   "execution_count": 72,
   "id": "9f89b134-1bd4-4595-bbb4-0563429cb666",
   "metadata": {
    "execution": {
     "iopub.execute_input": "2024-06-03T08:38:11.757459Z",
     "iopub.status.busy": "2024-06-03T08:38:11.757056Z",
     "iopub.status.idle": "2024-06-03T08:38:11.793167Z",
     "shell.execute_reply": "2024-06-03T08:38:11.792685Z",
     "shell.execute_reply.started": "2024-06-03T08:38:11.757431Z"
    },
    "scrolled": true
   },
   "outputs": [],
   "source": [
    "mean_values_cc = calculate_mean(cc_values)\n",
    "mean_values_mse = calculate_mean(mse_values)"
   ]
  },
  {
   "cell_type": "code",
   "execution_count": 73,
   "id": "a2bc73bd-8cee-4e75-abaf-82d7ab6b30b4",
   "metadata": {
    "execution": {
     "iopub.execute_input": "2024-06-03T08:38:12.345133Z",
     "iopub.status.busy": "2024-06-03T08:38:12.344708Z",
     "iopub.status.idle": "2024-06-03T08:38:12.357908Z",
     "shell.execute_reply": "2024-06-03T08:38:12.357049Z",
     "shell.execute_reply.started": "2024-06-03T08:38:12.345104Z"
    }
   },
   "outputs": [
    {
     "data": {
      "text/plain": [
       "{'ELF_RSlinB_FMeam_FPt_RDtGC_EHF': 0.6689206558933192,\n",
       " 'ELF_RSlinB_FMebw_FPt_RDtGC_EHF': 0.6244211874382042,\n",
       " 'ELF_RSlinB_FMefm_FPt_RDtGC_EHF': 0.32408458191380596,\n",
       " 'flt_BFi': 0.5806797173223289,\n",
       " 'flt_Wam': 0.36963336938242153,\n",
       " 'flt_Wfm': 0.29898291638369046}"
      ]
     },
     "execution_count": 73,
     "metadata": {},
     "output_type": "execute_result"
    }
   ],
   "source": [
    "calculate_overall_median(median_values_cc)"
   ]
  },
  {
   "cell_type": "code",
   "execution_count": 74,
   "id": "b8fc712e-7b26-4fbd-a283-e5064d4f6ed2",
   "metadata": {
    "execution": {
     "iopub.execute_input": "2024-06-03T08:38:14.371483Z",
     "iopub.status.busy": "2024-06-03T08:38:14.370981Z",
     "iopub.status.idle": "2024-06-03T08:38:14.380198Z",
     "shell.execute_reply": "2024-06-03T08:38:14.379513Z",
     "shell.execute_reply.started": "2024-06-03T08:38:14.371451Z"
    }
   },
   "outputs": [
    {
     "data": {
      "text/plain": [
       "{'ELF_RSlinB_FMeam_FPt_RDtGC_EHF': 0.6372758821727452,\n",
       " 'ELF_RSlinB_FMebw_FPt_RDtGC_EHF': 0.6002211256607378,\n",
       " 'ELF_RSlinB_FMefm_FPt_RDtGC_EHF': 0.3268251567073985,\n",
       " 'flt_BFi': 0.5586074061739241,\n",
       " 'flt_Wam': 0.38144137099571845,\n",
       " 'flt_Wfm': 0.31143610106791636}"
      ]
     },
     "execution_count": 74,
     "metadata": {},
     "output_type": "execute_result"
    }
   ],
   "source": [
    "calculate_overall_mean(mean_values_cc)"
   ]
  },
  {
   "cell_type": "code",
   "execution_count": 77,
   "id": "ae3a2847-0116-4a6b-acbc-0cab27ca2db1",
   "metadata": {
    "execution": {
     "iopub.execute_input": "2024-06-03T08:38:55.690432Z",
     "iopub.status.busy": "2024-06-03T08:38:55.689672Z",
     "iopub.status.idle": "2024-06-03T08:38:55.702823Z",
     "shell.execute_reply": "2024-06-03T08:38:55.701969Z",
     "shell.execute_reply.started": "2024-06-03T08:38:55.690375Z"
    },
    "scrolled": true
   },
   "outputs": [
    {
     "data": {
      "text/plain": [
       "{'ELF_RSlinB_FMeam_FPt_RDtGC_EHF': 0.06548734871978001,\n",
       " 'ELF_RSlinB_FMebw_FPt_RDtGC_EHF': 0.06352932768885228,\n",
       " 'ELF_RSlinB_FMefm_FPt_RDtGC_EHF': 0.10049166727873382,\n",
       " 'flt_BFi': 0.07339123243711032,\n",
       " 'flt_Wam': 0.09864817470949042,\n",
       " 'flt_Wfm': 0.1083998867323163}"
      ]
     },
     "execution_count": 77,
     "metadata": {},
     "output_type": "execute_result"
    }
   ],
   "source": [
    "calculate_overall_median(median_values_mse)"
   ]
  },
  {
   "cell_type": "code",
   "execution_count": 78,
   "id": "fae5d53c-eac6-4465-81c1-3e06abac82e3",
   "metadata": {
    "execution": {
     "iopub.execute_input": "2024-06-03T08:38:56.015807Z",
     "iopub.status.busy": "2024-06-03T08:38:56.015087Z",
     "iopub.status.idle": "2024-06-03T08:38:56.027686Z",
     "shell.execute_reply": "2024-06-03T08:38:56.027027Z",
     "shell.execute_reply.started": "2024-06-03T08:38:56.015751Z"
    }
   },
   "outputs": [
    {
     "data": {
      "text/plain": [
       "{'ELF_RSlinB_FMeam_FPt_RDtGC_EHF': 0.0656807723440914,\n",
       " 'ELF_RSlinB_FMebw_FPt_RDtGC_EHF': 0.06489365945136012,\n",
       " 'ELF_RSlinB_FMefm_FPt_RDtGC_EHF': 0.10157131195548069,\n",
       " 'flt_BFi': 0.07674733331598545,\n",
       " 'flt_Wam': 0.10882017625720494,\n",
       " 'flt_Wfm': 0.11178725031768236}"
      ]
     },
     "execution_count": 78,
     "metadata": {},
     "output_type": "execute_result"
    }
   ],
   "source": [
    "calculate_overall_mean(mean_values_mse)"
   ]
  },
  {
   "cell_type": "markdown",
   "id": "730fae1c-feff-4bb9-9b63-85db68a9010d",
   "metadata": {},
   "source": [
    "## Capnobase"
   ]
  },
  {
   "cell_type": "code",
   "execution_count": 51,
   "id": "7f63d512-4685-41bb-97d4-a2dcd88ceddc",
   "metadata": {
    "execution": {
     "iopub.execute_input": "2024-06-03T08:08:13.625552Z",
     "iopub.status.busy": "2024-06-03T08:08:13.625121Z",
     "iopub.status.idle": "2024-06-03T08:08:13.629341Z",
     "shell.execute_reply": "2024-06-03T08:08:13.628439Z",
     "shell.execute_reply.started": "2024-06-03T08:08:13.625521Z"
    }
   },
   "outputs": [],
   "source": [
    "directory = './capnobase_results/Analysis_files/Component_Data/'"
   ]
  },
  {
   "cell_type": "code",
   "execution_count": 52,
   "id": "6f229c50-0f3c-48f4-bfd1-42bc75b423fd",
   "metadata": {
    "execution": {
     "iopub.execute_input": "2024-06-03T08:08:13.725125Z",
     "iopub.status.busy": "2024-06-03T08:08:13.724709Z",
     "iopub.status.idle": "2024-06-03T08:08:13.755885Z",
     "shell.execute_reply": "2024-06-03T08:08:13.755438Z",
     "shell.execute_reply.started": "2024-06-03T08:08:13.725093Z"
    },
    "scrolled": true
   },
   "outputs": [],
   "source": [
    "data = load_mat_files(directory)\n",
    "cc_values, mse_values = extract_values(data)"
   ]
  },
  {
   "cell_type": "code",
   "execution_count": 53,
   "id": "a04f4c64-1201-4a96-a045-fce84e852f9c",
   "metadata": {
    "execution": {
     "iopub.execute_input": "2024-06-03T08:08:14.503514Z",
     "iopub.status.busy": "2024-06-03T08:08:14.503017Z",
     "iopub.status.idle": "2024-06-03T08:08:14.533675Z",
     "shell.execute_reply": "2024-06-03T08:08:14.533065Z",
     "shell.execute_reply.started": "2024-06-03T08:08:14.503480Z"
    }
   },
   "outputs": [],
   "source": [
    "median_values_cc = calculate_median(cc_values)\n",
    "median_values_mse = calculate_median(mse_values)"
   ]
  },
  {
   "cell_type": "code",
   "execution_count": 54,
   "id": "e7586573-fd27-4cf5-be51-e0ce603ef236",
   "metadata": {
    "execution": {
     "iopub.execute_input": "2024-06-03T08:08:14.953042Z",
     "iopub.status.busy": "2024-06-03T08:08:14.952595Z",
     "iopub.status.idle": "2024-06-03T08:08:14.983705Z",
     "shell.execute_reply": "2024-06-03T08:08:14.982884Z",
     "shell.execute_reply.started": "2024-06-03T08:08:14.953011Z"
    }
   },
   "outputs": [],
   "source": [
    "mean_values_cc = calculate_mean(cc_values)\n",
    "mean_values_mse = calculate_mean(mse_values)"
   ]
  },
  {
   "cell_type": "code",
   "execution_count": 55,
   "id": "77941e29-d40a-468b-b63d-e0c3c0aa8e8b",
   "metadata": {
    "execution": {
     "iopub.execute_input": "2024-06-03T08:08:15.450174Z",
     "iopub.status.busy": "2024-06-03T08:08:15.449743Z",
     "iopub.status.idle": "2024-06-03T08:08:15.460995Z",
     "shell.execute_reply": "2024-06-03T08:08:15.459955Z",
     "shell.execute_reply.started": "2024-06-03T08:08:15.450145Z"
    }
   },
   "outputs": [
    {
     "data": {
      "text/plain": [
       "{'ELF_RSlinB_FMeam_FPt_RDtGC_EHF': 0.8611708902922213,\n",
       " 'ELF_RSlinB_FMebw_FPt_RDtGC_EHF': 0.6931336921888314,\n",
       " 'ELF_RSlinB_FMefm_FPt_RDtGC_EHF': 0.6897644243814938,\n",
       " 'flt_BFi': 0.45598445558912803,\n",
       " 'flt_Wam': 0.45213411987543184,\n",
       " 'flt_Wfm': 0.40757009418580525}"
      ]
     },
     "execution_count": 55,
     "metadata": {},
     "output_type": "execute_result"
    }
   ],
   "source": [
    "calculate_overall_median(median_values_cc)"
   ]
  },
  {
   "cell_type": "code",
   "execution_count": 56,
   "id": "96b96c2c-d397-4743-a4ad-12b276f71ec1",
   "metadata": {
    "execution": {
     "iopub.execute_input": "2024-06-03T08:08:17.590508Z",
     "iopub.status.busy": "2024-06-03T08:08:17.590065Z",
     "iopub.status.idle": "2024-06-03T08:08:17.600852Z",
     "shell.execute_reply": "2024-06-03T08:08:17.599700Z",
     "shell.execute_reply.started": "2024-06-03T08:08:17.590480Z"
    }
   },
   "outputs": [
    {
     "data": {
      "text/plain": [
       "{'ELF_RSlinB_FMeam_FPt_RDtGC_EHF': 0.8330416025511844,\n",
       " 'ELF_RSlinB_FMebw_FPt_RDtGC_EHF': 0.6596325235201358,\n",
       " 'ELF_RSlinB_FMefm_FPt_RDtGC_EHF': 0.6599929731951029,\n",
       " 'flt_BFi': 0.4188092218740107,\n",
       " 'flt_Wam': 0.42940958605211926,\n",
       " 'flt_Wfm': 0.4140829981639218}"
      ]
     },
     "execution_count": 56,
     "metadata": {},
     "output_type": "execute_result"
    }
   ],
   "source": [
    "calculate_overall_mean(mean_values_cc)"
   ]
  },
  {
   "cell_type": "code",
   "execution_count": 57,
   "id": "68807596-1779-4d5e-9e02-af3f9ad41bb1",
   "metadata": {
    "execution": {
     "iopub.execute_input": "2024-06-03T08:08:19.344428Z",
     "iopub.status.busy": "2024-06-03T08:08:19.343965Z",
     "iopub.status.idle": "2024-06-03T08:08:19.353294Z",
     "shell.execute_reply": "2024-06-03T08:08:19.352589Z",
     "shell.execute_reply.started": "2024-06-03T08:08:19.344396Z"
    }
   },
   "outputs": [
    {
     "data": {
      "text/plain": [
       "{'ELF_RSlinB_FMeam_FPt_RDtGC_EHF': 0.04839334326332245,\n",
       " 'ELF_RSlinB_FMebw_FPt_RDtGC_EHF': 0.08120463431092063,\n",
       " 'ELF_RSlinB_FMefm_FPt_RDtGC_EHF': 0.0759892699823336,\n",
       " 'flt_BFi': 0.11813423559092215,\n",
       " 'flt_Wam': 0.12086288733420263,\n",
       " 'flt_Wfm': 0.12552053905685007}"
      ]
     },
     "execution_count": 57,
     "metadata": {},
     "output_type": "execute_result"
    }
   ],
   "source": [
    "calculate_overall_median(median_values_mse)"
   ]
  },
  {
   "cell_type": "code",
   "execution_count": 58,
   "id": "5f071427-b20c-47fe-a12d-7dbf5a1d44d3",
   "metadata": {
    "execution": {
     "iopub.execute_input": "2024-06-03T08:08:20.737778Z",
     "iopub.status.busy": "2024-06-03T08:08:20.737356Z",
     "iopub.status.idle": "2024-06-03T08:08:20.747477Z",
     "shell.execute_reply": "2024-06-03T08:08:20.746057Z",
     "shell.execute_reply.started": "2024-06-03T08:08:20.737749Z"
    }
   },
   "outputs": [
    {
     "data": {
      "text/plain": [
       "{'ELF_RSlinB_FMeam_FPt_RDtGC_EHF': 0.057340347402984417,\n",
       " 'ELF_RSlinB_FMebw_FPt_RDtGC_EHF': 0.08609671091004677,\n",
       " 'ELF_RSlinB_FMefm_FPt_RDtGC_EHF': 0.08289334234411427,\n",
       " 'flt_BFi': 0.11288783251743041,\n",
       " 'flt_Wam': 0.12566097266572143,\n",
       " 'flt_Wfm': 0.13239046138302132}"
      ]
     },
     "execution_count": 58,
     "metadata": {},
     "output_type": "execute_result"
    }
   ],
   "source": [
    "calculate_overall_mean(mean_values_mse)"
   ]
  },
  {
   "cell_type": "code",
   "execution_count": null,
   "id": "03c9a480-fa8e-4be3-ab83-77d5c1d8d082",
   "metadata": {},
   "outputs": [],
   "source": []
  }
 ],
 "metadata": {
  "kernelspec": {
   "display_name": "Python (tf_m1)",
   "language": "python",
   "name": "tf_m1"
  },
  "language_info": {
   "codemirror_mode": {
    "name": "ipython",
    "version": 3
   },
   "file_extension": ".py",
   "mimetype": "text/x-python",
   "name": "python",
   "nbconvert_exporter": "python",
   "pygments_lexer": "ipython3",
   "version": "3.9.19"
  }
 },
 "nbformat": 4,
 "nbformat_minor": 5
}
